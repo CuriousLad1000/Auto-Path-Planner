{
 "cells": [
  {
   "cell_type": "code",
   "execution_count": 5,
   "id": "0a5a4043",
   "metadata": {},
   "outputs": [],
   "source": [
    "from gazebo_msgs.srv import SpawnModel,SetModelState\n",
    "import rospy\n",
    "from geometry_msgs.msg import Pose\n",
    "from gazebo_msgs.msg import ModelState \n",
    "from random import randrange\n",
    "import PyKDL\n",
    "import numpy as np\n",
    "import time\n",
    "\n",
    "def Summon_box(box_X,box_Y,box_Z,box_R,box_P,box_Yaw,box_name):\n",
    "\n",
    "    rot_quat = PyKDL.Rotation.RPY(np.radians(box_R), np.radians(box_P), np.radians(box_Yaw)).GetQuaternion() #0.328462 0 0.000036 0 -1.570604 3.141059\n",
    "    box_pose = Pose()\n",
    "    box_pose.position.x = box_X\n",
    "    box_pose.position.y = box_Y\n",
    "    box_pose.position.z = box_Z\n",
    "    box_pose.orientation.x = rot_quat[0]\n",
    "    box_pose.orientation.y = rot_quat[1]\n",
    "    box_pose.orientation.z = rot_quat[2]\n",
    "    box_pose.orientation.w = rot_quat[3]\n",
    "\n",
    "    spawn_model_client = rospy.ServiceProxy('gazebo/spawn_sdf_model', SpawnModel)\n",
    "    stat=spawn_model_client( model_name = box_name, model_xml=open('/home/shadowd/ws_panda/src/Box_test/model.sdf', 'r').read(),\n",
    "        robot_namespace='', initial_pose=box_pose, reference_frame='world')\n",
    "\n",
    "    return stat\n",
    "\n",
    "\n",
    "def update_box_pose(hold_time, box_name, Task_pose):\n",
    "    \n",
    "    box_state_msg = ModelState()\n",
    "    t_end = time.time() + hold_time\n",
    "\n",
    "    while True:\n",
    "        box_state_msg.model_name = box_name\n",
    "        box_state_msg.pose.position.x = Task_pose[0]\n",
    "        box_state_msg.pose.position.y = Task_pose[1] \n",
    "        box_state_msg.pose.position.z = Task_pose[2]\n",
    "\n",
    "        box_rot_quat = PyKDL.Rotation.RPY(np.radians(Task_pose[3]), np.radians(Task_pose[4]), np.radians(Task_pose[5])).GetQuaternion()\n",
    "        box_state_msg.pose.orientation.x = box_rot_quat[0]\n",
    "        box_state_msg.pose.orientation.y = box_rot_quat[1]\n",
    "        box_state_msg.pose.orientation.z = box_rot_quat[2]\n",
    "        box_state_msg.pose.orientation.w = box_rot_quat[3]\n",
    "        resp = set_state( box_state_msg )\n",
    "        if(time.time() > t_end):\n",
    "            break\n",
    "    return resp \n",
    "\n",
    "rospy.init_node('insert_object',log_level=rospy.INFO)\n",
    "rospy.wait_for_service('/gazebo/spawn_sdf_model')\n",
    "set_state = rospy.ServiceProxy('/gazebo/set_model_state', SetModelState)\n"
   ]
  },
  {
   "cell_type": "code",
   "execution_count": null,
   "id": "231fe7d9",
   "metadata": {},
   "outputs": [],
   "source": []
  },
  {
   "cell_type": "code",
   "execution_count": 9,
   "id": "53a16624",
   "metadata": {},
   "outputs": [
    {
     "data": {
      "text/plain": [
       "success: True\n",
       "status_message: \"SpawnModel: Successfully spawned entity\""
      ]
     },
     "execution_count": 9,
     "metadata": {},
     "output_type": "execute_result"
    }
   ],
   "source": [
    "box_name = 'Test_box_'+ str(101)\n",
    "box_X = 0.3\n",
    "box_Y = 0.0\n",
    "box_Z = 0.1\n",
    "\n",
    "box_R = 45\n",
    "box_P = 0\n",
    "box_Yaw = 0\n",
    "\n",
    "Summon_box(box_X,box_Y,box_Z,box_R,box_P,box_Yaw,box_name)"
   ]
  },
  {
   "cell_type": "code",
   "execution_count": 10,
   "id": "c66d8998",
   "metadata": {
    "scrolled": true
   },
   "outputs": [
    {
     "data": {
      "text/plain": [
       "success: True\n",
       "status_message: \"SetModelState: set model state done\""
      ]
     },
     "execution_count": 10,
     "metadata": {},
     "output_type": "execute_result"
    }
   ],
   "source": [
    "Box_pose = [0.3, 0, 0.15, 0, 0, 0]\n",
    "\n",
    "update_box_pose(1, box_name, Box_pose)"
   ]
  }
 ],
 "metadata": {
  "kernelspec": {
   "display_name": "Python 3 (ipykernel)",
   "language": "python",
   "name": "python3"
  },
  "language_info": {
   "codemirror_mode": {
    "name": "ipython",
    "version": 3
   },
   "file_extension": ".py",
   "mimetype": "text/x-python",
   "name": "python",
   "nbconvert_exporter": "python",
   "pygments_lexer": "ipython3",
   "version": "3.9.16"
  }
 },
 "nbformat": 4,
 "nbformat_minor": 5
}
