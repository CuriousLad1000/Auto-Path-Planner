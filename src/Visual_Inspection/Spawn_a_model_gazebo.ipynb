{
 "cells": [
  {
   "cell_type": "code",
   "execution_count": null,
   "id": "0a5a4043",
   "metadata": {},
   "outputs": [],
   "source": [
    "from gazebo_msgs.srv import SpawnModel,SetModelState\n",
    "import rospy\n",
    "from geometry_msgs.msg import Pose, TransformStamped\n",
    "from gazebo_msgs.msg import ModelState \n",
    "from random import randrange\n",
    "import PyKDL\n",
    "import numpy as np\n",
    "import time\n",
    "import tf\n",
    "import tf2_ros\n",
    "\n",
    "\n",
    "def Summon_model(model_X,model_Y,model_Z,model_R,model_P,model_Yaw,model_name):\n",
    "\n",
    "    rot_quat = PyKDL.Rotation.RPY(np.radians(model_R), np.radians(model_P), np.radians(model_Yaw)).GetQuaternion() #0.328462 0 0.000036 0 -1.570604 3.141059\n",
    "    model_pose = Pose()\n",
    "    model_pose.position.x = model_X\n",
    "    model_pose.position.y = model_Y\n",
    "    model_pose.position.z = model_Z\n",
    "    model_pose.orientation.x = rot_quat[0]\n",
    "    model_pose.orientation.y = rot_quat[1]\n",
    "    model_pose.orientation.z = rot_quat[2]\n",
    "    model_pose.orientation.w = rot_quat[3]\n",
    "\n",
    "    spawn_model_client = rospy.ServiceProxy('gazebo/spawn_sdf_model', SpawnModel)\n",
    "    \n",
    "    if \"cylinder\" in model_name:\n",
    "        print('Summoning Cylinder')\n",
    "        file_name = 'cylinder'\n",
    "    elif \"box\" in model_name:\n",
    "        print('Summoning Box')\n",
    "        file_name = 'box'\n",
    "    elif \"sphere\" in model_name:\n",
    "        print('Summoning Sphere')\n",
    "        file_name = 'sphere'\n",
    "    elif \"Aerofoil\" in model_name:\n",
    "        print('Summoning Aerofoil')\n",
    "        file_name = 'Aerofoil'\n",
    "    elif \"Carbon_hood_scoop\" in model_name:\n",
    "        print('Summoning Carbon_hood_scoop')\n",
    "        file_name = 'Carbon_hood_scoop'\n",
    "    elif \"submarine\" in model_name:\n",
    "        print('Summoning submarine')\n",
    "        file_name = 'submarine'\n",
    "    elif \"Satellite\" in model_name:\n",
    "        print('Summoning Satellite')\n",
    "        file_name = 'Satellite'        \n",
    "    elif \"Subaru\" in model_name:\n",
    "        print('Summoning Subaru')\n",
    "        file_name = 'Subaru'\n",
    "    elif \"roller_empty\" in model_name:\n",
    "        print('Summoning roller_empty')\n",
    "        file_name = 'roller_empty'\n",
    "    elif \"pyramids\" in model_name:\n",
    "        print('Summoning pyramids')\n",
    "        file_name = 'pyramids'\n",
    "    elif \"waves\" in model_name:\n",
    "        print('Summoning waves')\n",
    "        file_name = 'waves'\n",
    "    elif \"weird\" in model_name:\n",
    "        print('Summoning weird')\n",
    "        file_name = 'weird'\n",
    "\n",
    "    stat=spawn_model_client( model_name = model_name, model_xml=open('/home/shadowd/ws_panda/src/sdf_models/' + file_name + '_model.sdf', 'r').read(),\n",
    "        robot_namespace='', initial_pose=model_pose, reference_frame='world')\n",
    "    if stat.success == False:\n",
    "        stat=update_model_pose(1, model_name, [model_X,model_Y,model_Z,model_R,model_P,model_Yaw])\n",
    "    \n",
    "    return stat\n",
    "\n",
    "def update_model_pose(hold_time, model_name, Task_pose):\n",
    "    \n",
    "    model_state_msg = ModelState()\n",
    "    t_end = time.time() + hold_time\n",
    "\n",
    "    while True:\n",
    "        model_state_msg.model_name = model_name\n",
    "        model_state_msg.pose.position.x = Task_pose[0]\n",
    "        model_state_msg.pose.position.y = Task_pose[1] \n",
    "        model_state_msg.pose.position.z = Task_pose[2]\n",
    "\n",
    "        model_rot_quat = PyKDL.Rotation.RPY(np.radians(Task_pose[3]), np.radians(Task_pose[4]), np.radians(Task_pose[5])).GetQuaternion()\n",
    "        model_state_msg.pose.orientation.x = model_rot_quat[0]\n",
    "        model_state_msg.pose.orientation.y = model_rot_quat[1]\n",
    "        model_state_msg.pose.orientation.z = model_rot_quat[2]\n",
    "        model_state_msg.pose.orientation.w = model_rot_quat[3]\n",
    "        resp = set_state( model_state_msg )\n",
    "        if(time.time() > t_end):\n",
    "            break\n",
    "    return resp \n",
    "\n",
    "\n",
    "def publish_tf(model_pose, parent_frame, child_frame):\n",
    "    static_transformStamped.header.stamp = rospy.Time.now()\n",
    "    static_transformStamped.header.frame_id = parent_frame\n",
    "    static_transformStamped.child_frame_id = child_frame\n",
    "\n",
    "    static_transformStamped.transform.translation.x = model_pose[0]\n",
    "    static_transformStamped.transform.translation.y = model_pose[1]\n",
    "    static_transformStamped.transform.translation.z = model_pose[2]\n",
    "\n",
    "    quat = tf.transformations.quaternion_from_euler(np.radians(model_pose[3]),np.radians(model_pose[4]),np.radians(model_pose[5]))\n",
    "    static_transformStamped.transform.rotation.x = quat[0]\n",
    "    static_transformStamped.transform.rotation.y = quat[1]\n",
    "    static_transformStamped.transform.rotation.z = quat[2]\n",
    "    static_transformStamped.transform.rotation.w = quat[3]\n",
    "    broadcaster.sendTransform(static_transformStamped)\n",
    "\n",
    "\n",
    "\n",
    "rospy.init_node('insert_object',log_level=rospy.INFO)\n",
    "rospy.wait_for_service('/gazebo/spawn_sdf_model')\n",
    "set_state = rospy.ServiceProxy('/gazebo/set_model_state', SetModelState)\n",
    "\n",
    "broadcaster = tf2_ros.StaticTransformBroadcaster()\n",
    "static_transformStamped = TransformStamped()\n",
    "print(\"Loaded!\")"
   ]
  },
  {
   "cell_type": "markdown",
   "id": "61e2eb6f",
   "metadata": {},
   "source": [
    "### FOR STL models"
   ]
  },
  {
   "cell_type": "code",
   "execution_count": null,
   "id": "e6543934",
   "metadata": {},
   "outputs": [],
   "source": [
    "#box_name = 'Aerofoil_'+ str(101)\n",
    "#box_name = 'Carbon_hood_scoop_'+ str(101)\n",
    "#box_name = 'submarine_'+ str(101)\n",
    "#box_name = 'Satellite_'+ str(101)\n",
    "#box_name = 'Subaru_'+ str(101)\n",
    "box_name = 'roller_empty_'+ str(101)\n",
    "\n",
    "box_X = 0.55\n",
    "box_Y = -0.1\n",
    "box_Z = 0.03\n",
    "\n",
    "box_R = 0\n",
    "box_P = 0\n",
    "box_Yaw = 90\n",
    "\n",
    "Summon_model(box_X,box_Y,box_Z,box_R,box_P,box_Yaw,box_name)"
   ]
  },
  {
   "cell_type": "code",
   "execution_count": null,
   "id": "7355b5e3",
   "metadata": {},
   "outputs": [],
   "source": []
  },
  {
   "cell_type": "code",
   "execution_count": null,
   "id": "e562ebf3",
   "metadata": {
    "scrolled": true
   },
   "outputs": [],
   "source": [
    "#box_name = 'Aerofoil_'+ str(101)\n",
    "#box_name = 'Carbon_hood_scoop_'+ str(101)\n",
    "box_name = 'submarine_'+ str(101)\n",
    "#box_name = 'Satellite_'+ str(101)\n",
    "#box_name = 'Subaru_'+ str(101)\n",
    "#box_name = 'roller_empty_'+ str(101)\n",
    "\n",
    "box_X = 0.6\n",
    "#box_X = 0.5\n",
    "box_Y = 0\n",
    "box_Z = 0.15\n",
    "\n",
    "box_R = 0\n",
    "box_P = 0\n",
    "box_Yaw = 0\n",
    "\n",
    "Summon_model(box_X,box_Y,box_Z,box_R,box_P,box_Yaw,box_name)"
   ]
  },
  {
   "cell_type": "code",
   "execution_count": null,
   "id": "380e6700",
   "metadata": {},
   "outputs": [],
   "source": []
  },
  {
   "cell_type": "markdown",
   "id": "92c8f7ec",
   "metadata": {},
   "source": [
    "## FOR BOX"
   ]
  },
  {
   "cell_type": "code",
   "execution_count": null,
   "id": "53a16624",
   "metadata": {},
   "outputs": [],
   "source": [
    "box_name = 'Test_box_'+ str(101)\n",
    "box_X = 0.3\n",
    "box_Y = 0.0\n",
    "box_Z = 0.1\n",
    "\n",
    "box_R = 0\n",
    "box_P = 0\n",
    "box_Yaw = 0\n",
    "\n",
    "Summon_model(box_X,box_Y,box_Z,box_R,box_P,box_Yaw,box_name)"
   ]
  },
  {
   "cell_type": "markdown",
   "id": "8215536f",
   "metadata": {},
   "source": [
    "### Update Box Pose"
   ]
  },
  {
   "cell_type": "code",
   "execution_count": null,
   "id": "c66d8998",
   "metadata": {
    "scrolled": true
   },
   "outputs": [],
   "source": [
    "Box_pose = [0.3, 0.0, 0.1, 45., 45., 0.]\n",
    "\n",
    "parent_frame = \"world\"\n",
    "child_frame = \"gt_plane\"\n",
    "result = update_model_pose(1, box_name, Box_pose)\n",
    "publish_tf(Box_pose, parent_frame, child_frame)\n",
    "result"
   ]
  },
  {
   "cell_type": "markdown",
   "id": "13b108d6",
   "metadata": {},
   "source": [
    "## FOR CYLINDER"
   ]
  },
  {
   "cell_type": "code",
   "execution_count": null,
   "id": "2cded1b4",
   "metadata": {},
   "outputs": [],
   "source": [
    "model_name = 'Test_cylinder_'+ str(101)\n",
    "model_X = 0.3\n",
    "model_Y = 0.0\n",
    "model_Z = 0.1\n",
    "\n",
    "model_R = 90\n",
    "model_P = 0\n",
    "model_Yaw = 90\n",
    "\n",
    "Summon_model(model_X,model_Y,model_Z,model_R,model_P,model_Yaw,model_name)"
   ]
  },
  {
   "cell_type": "markdown",
   "id": "61ab63d9",
   "metadata": {},
   "source": [
    "### Update Cylinder Pose"
   ]
  },
  {
   "cell_type": "code",
   "execution_count": null,
   "id": "8d5a8a98",
   "metadata": {},
   "outputs": [],
   "source": [
    "Cylinder_pose = [0.3, 0.0, 0.1, 90., 0., 90.]\n",
    "\n",
    "parent_frame = \"world\"\n",
    "child_frame = \"gt_cylinder\"\n",
    "result = update_model_pose(1, model_name, Cylinder_pose)\n",
    "publish_tf(Cylinder_pose, parent_frame, child_frame)\n",
    "result"
   ]
  },
  {
   "cell_type": "code",
   "execution_count": null,
   "id": "9c6c4540",
   "metadata": {},
   "outputs": [],
   "source": []
  },
  {
   "cell_type": "markdown",
   "id": "6487bf2d",
   "metadata": {},
   "source": [
    "## FOR SPHERE"
   ]
  },
  {
   "cell_type": "code",
   "execution_count": null,
   "id": "d4ba7e73",
   "metadata": {},
   "outputs": [],
   "source": [
    "model_name = 'Test_sphere_'+ str(101)\n",
    "model_X = 0.3\n",
    "model_Y = 0.0\n",
    "model_Z = 0.05\n",
    "\n",
    "model_R = 90\n",
    "model_P = 0\n",
    "model_Yaw = 90\n",
    "\n",
    "Summon_model(model_X,model_Y,model_Z,model_R,model_P,model_Yaw,model_name)"
   ]
  },
  {
   "cell_type": "markdown",
   "id": "cd821ed4",
   "metadata": {},
   "source": [
    "### Update Sphere Pose"
   ]
  },
  {
   "cell_type": "code",
   "execution_count": null,
   "id": "4ba68199",
   "metadata": {},
   "outputs": [],
   "source": [
    "Capsule_pose = [0.3, 0.0, 0.05, 0., 0., 0.]\n",
    "\n",
    "parent_frame = \"world\"\n",
    "child_frame = \"gt_sphere\"\n",
    "result = update_model_pose(1, model_name, Capsule_pose)\n",
    "publish_tf(Capsule_pose, parent_frame, child_frame)\n",
    "result"
   ]
  }
 ],
 "metadata": {
  "kernelspec": {
   "display_name": "Python 3 (ipykernel)",
   "language": "python",
   "name": "python3"
  },
  "language_info": {
   "codemirror_mode": {
    "name": "ipython",
    "version": 3
   },
   "file_extension": ".py",
   "mimetype": "text/x-python",
   "name": "python",
   "nbconvert_exporter": "python",
   "pygments_lexer": "ipython3",
   "version": "3.9.16"
  }
 },
 "nbformat": 4,
 "nbformat_minor": 5
}
