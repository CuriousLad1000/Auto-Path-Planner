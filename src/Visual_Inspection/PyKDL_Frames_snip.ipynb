{
 "cells": [
  {
   "cell_type": "code",
   "execution_count": 3,
   "id": "b930f95d",
   "metadata": {},
   "outputs": [
    {
     "name": "stdout",
     "output_type": "stream",
     "text": [
      "[ 0.  0. 90.]\n"
     ]
    }
   ],
   "source": [
    "import numpy as np\n",
    "import PyKDL\n",
    "\n",
    "f1 = PyKDL.Frame(PyKDL.Rotation.RPY(0,0,0), PyKDL.Vector(0, 0, 0))\n",
    "f2 = PyKDL.Frame(PyKDL.Rotation.RPY(0, 0, np.pi/2), PyKDL.Vector(0,0,0))\n",
    "\n",
    "res1 = PyKDL.diff(f1, f2)\n",
    "\n",
    "res1 = np.degrees([res1[3],res1[4],res1[5]])\n",
    "print(res1)"
   ]
  }
 ],
 "metadata": {
  "kernelspec": {
   "display_name": "Python 3 (ipykernel)",
   "language": "python",
   "name": "python3"
  },
  "language_info": {
   "codemirror_mode": {
    "name": "ipython",
    "version": 3
   },
   "file_extension": ".py",
   "mimetype": "text/x-python",
   "name": "python",
   "nbconvert_exporter": "python",
   "pygments_lexer": "ipython3",
   "version": "3.9.16"
  }
 },
 "nbformat": 4,
 "nbformat_minor": 5
}
