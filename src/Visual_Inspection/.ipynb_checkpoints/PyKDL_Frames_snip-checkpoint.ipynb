{
 "cells": [
  {
   "cell_type": "code",
   "execution_count": 1,
   "id": "b930f95d",
   "metadata": {},
   "outputs": [
    {
     "name": "stdout",
     "output_type": "stream",
     "text": [
      "Jupyter environment detected. Enabling Open3D WebVisualizer.\n",
      "[Open3D INFO] WebRTC GUI backend enabled.\n",
      "[Open3D INFO] WebRTCWindowSystem: HTTP handshake server disabled.\n"
     ]
    }
   ],
   "source": [
    "import cv2\n",
    "from sensor_msgs.msg import Image\n",
    "from cv_bridge import CvBridge\n",
    "import rospy\n",
    "\n",
    "import pyrealsense2\n",
    "from realsense_depth import *\n",
    "import numpy as np\n",
    "from matplotlib import pyplot as plt\n",
    "\n",
    "import open3d as o3d\n",
    "from open3d_ros_helper import open3d_ros_helper as orh\n",
    "from scipy import spatial\n",
    "from scipy.spatial.transform import Rotation as R\n",
    "import math\n",
    "import tf2_ros, tf\n",
    "import geometry_msgs.msg\n",
    "import PyKDL\n",
    "\n",
    "image = None\n",
    "\n",
    "rospy.init_node(\"my_pic\", anonymous=True)\n",
    "\n",
    "tfbuffer = tf2_ros.Buffer()\n",
    "listener = tf2_ros.TransformListener(tfbuffer)\n",
    "br = tf2_ros.TransformBroadcaster()\n",
    "t = geometry_msgs.msg.TransformStamped()\n",
    "\n",
    "bridge = CvBridge()\n",
    "loop_rate = rospy.Rate(0.5) # Node cycle rate (in Hz).\n",
    "np.set_printoptions(suppress=True)"
   ]
  },
  {
   "cell_type": "code",
   "execution_count": 2,
   "id": "0de15c85",
   "metadata": {},
   "outputs": [],
   "source": [
    "def unit_vector(vector):\n",
    "    \"\"\" Returns the unit vector of the vector.  \"\"\"\n",
    "    return vector / np.linalg.norm(vector)\n",
    "\n",
    "def angle_between(v1, v2):\n",
    "    \"\"\" Returns the angle in radians between vectors 'v1' and 'v2'::\n",
    "\n",
    "            >>> angle_between((1, 0, 0), (0, 1, 0))\n",
    "            1.5707963267948966\n",
    "            >>> angle_between((1, 0, 0), (1, 0, 0))\n",
    "            0.0\n",
    "            >>> angle_between((1, 0, 0), (-1, 0, 0))\n",
    "            3.141592653589793\n",
    "    \"\"\"\n",
    "    v1_u = unit_vector(v1)\n",
    "    v2_u = unit_vector(v2)\n",
    "    return np.arccos(np.clip(np.dot(v1_u, v2_u), -1.0, 1.0))\n",
    "\n",
    "def grab_frame():\n",
    "    \n",
    "    frame_color=rospy.wait_for_message('/camera/color/image_raw', Image, timeout=None) #wait_for_message(topic, topic_type, timeout=None): \n",
    "    cv_image_color = bridge.imgmsg_to_cv2(frame_color, desired_encoding='rgb8')\n",
    "    \n",
    "    frame_depth = rospy.wait_for_message('/camera/depth/image_raw', Image, timeout=None) #wait_for_message(topic, topic_type, timeout=None): \n",
    "    cv_image_depth = bridge.imgmsg_to_cv2(frame_depth)\n",
    "    \n",
    "    return cv_image_color, cv_image_depth"
   ]
  },
  {
   "cell_type": "raw",
   "id": "b0bd329f",
   "metadata": {},
   "source": [
    "header: \n",
    "  seq: 48630\n",
    "  stamp: \n",
    "    secs: 4484\n",
    "    nsecs: 577000000\n",
    "  frame_id: \"camera_depth_optical_frame\"\n",
    "height: 480\n",
    "width: 640\n",
    "distortion_model: \"plumb_bob\"\n",
    "D: []\n",
    "K: [347.99755859375, 0.0, 320.0, 0.0, 347.99755859375, 240.0, 0.0, 0.0, 1.0]\n",
    "R: [0.0, 0.0, 0.0, 0.0, 0.0, 0.0, 0.0, 0.0, 0.0]\n",
    "P: [347.99755859375, 0.0, 320.0, 0.0, 0.0, 347.99755859375, 240.0, 0.0, 0.0, 0.0, 1.0, 0.0]\n",
    "binning_x: 0\n",
    "binning_y: 0\n",
    "roi: \n",
    "  x_offset: 0\n",
    "  y_offset: 0\n",
    "  height: 0\n",
    "  width: 0\n",
    "  do_rectify: False\n",
    "---\n"
   ]
  },
  {
   "cell_type": "code",
   "execution_count": 65,
   "id": "2a31f968",
   "metadata": {},
   "outputs": [],
   "source": [
    "def visualize_rgbd(rgbd_image):\n",
    "    print(rgbd_image)\n",
    "    #o3d.visualization.draw_geometries([rgbd_image])\n",
    "    \n",
    "    #intrinsic = o3d.camera.PinholeCameraIntrinsic()\n",
    "    #intrinsic.intrinsic_matrix =  [[462.1379699707031, 0.0, 320.0], [0.0, 462.1379699707031, 240.0], [0.0, 0.0, 1.0]]\n",
    "    #intrinsic.intrinsic_matrix =  [[347.99755859375, 0.0, 320.0], [0.0, 347.99755859375, 240.0], [0.0, 0.0, 1.0]]\n",
    "    #intrinsic.intrinsic_matrix =  [[602.71783447, 0.0, 313.06835938], [0.0, 601.61364746, 230.37461853], [0.0, 0.0, 1.0]]\n",
    "    \n",
    "    #w = 640\n",
    "    #h = 480\n",
    "    #fx = 602.71783447\n",
    "    #fy = 601.61364746\n",
    "    #cx = 313.06835938\n",
    "    #cy = 230.37461853\n",
    "    \n",
    "    #Color frame ROS camera\n",
    "    #w = 640\n",
    "    #h = 480\n",
    "    #fx = 462.1379699707031\n",
    "    #fy = 462.1379699707031\n",
    "    #cx = 320.0\n",
    "    #cy = 240.0\n",
    "    \n",
    "    #Depth frame ROS camera\n",
    "    w = 640\n",
    "    h = 480\n",
    "    fx = 347.99755859375\n",
    "    fy = 347.99755859375\n",
    "    cx = 320.0\n",
    "    cy = 240.0    \n",
    "    \n",
    "    \n",
    "    intrinsic = o3d.camera.PinholeCameraIntrinsic(w, h, fx,fy, cx, cy)\n",
    "    intrinsic.intrinsic_matrix = [[fx, 0, cx], [0, fy, cy], [0, 0, 1]]\n",
    "    \n",
    "    cam = o3d.camera.PinholeCameraParameters()\n",
    "    cam.intrinsic = intrinsic\n",
    "    \n",
    "    #cam.extrinsic = np.array([[0., 0., 0., 0.], [0., 0., 0., 0.], [0., 0., 0., 0.], [0., 0., 0., 1.]])\n",
    "    #pcd = o3d.geometry.create_point_cloud_from_rgbd_image(rgbd_image, cam.intrinsic, cam.extrinsic)\n",
    "    \n",
    "    pcd = o3d.geometry.PointCloud.create_from_rgbd_image(rgbd_image, cam.intrinsic)\n",
    "    #pcd = o3d.geometry.PointCloud.create_from_rgbd_image(rgbd_image,intrinsic)\n",
    "    \n",
    "    pcd.transform([[1, 0, 0, 0], [0, -1, 0, 0], [0, 0, -1, 0], [0, 0, 0, 1]]) # Flip it, otherwise the pointcloud will be upside down.\n",
    "    \n",
    "    #o3d.visualization.draw_geometries([pcd])\n",
    "    \n",
    "    return pcd\n",
    "    \n",
    "    \n",
    "def tst_dataset(color_frame,depth_frame):\n",
    "    color_raw = o3d.geometry.Image(np.asarray(color_frame))\n",
    "    depth_raw = o3d.geometry.Image(np.asarray(depth_frame.astype(np.uint16)) )\n",
    "    rgbd_image = o3d.geometry.RGBDImage.create_from_color_and_depth(color_raw, depth_raw, convert_rgb_to_intensity=False)\n",
    "    pcd = visualize_rgbd(rgbd_image)\n",
    "    return pcd\n",
    "\n",
    "\n",
    "def box_pos(x_coord, y_coord, width, height, centered=0):\n",
    "    if centered == 0:\n",
    "        start_point = (x_coord, y_coord) # represents the top left corner of rectangle\n",
    "        end_point = (x_coord+width-1, y_coord+height-1)  # represents the bottom right corner of rectangle\n",
    "    elif centered == 1:\n",
    "        new_x = x_coord - (np.floor(width/2)-1).astype(int)\n",
    "        new_y = y_coord - (np.floor(height/2)-1).astype(int)\n",
    "        start_point = (new_x, new_y) \n",
    "        end_point = (new_x+width, new_y+height)\n",
    "    return start_point, end_point\n",
    "\n",
    "\n",
    "def fetch_transform(tfbuffer,frame1,frame2,quat=0):\n",
    "    flag = 0\n",
    "    while flag==0:\n",
    "        try:\n",
    "            trans = tfbuffer.lookup_transform(frame1, frame2, rospy.Time(),rospy.Duration(8.0))\n",
    "            #print (trans)\n",
    "            trans = trans.transform  #save translation and rotation\n",
    "            #rot = PyKDL.Rotation.Quaternion(* [ trans.rotation.x,trans.rotation.y,trans.rotation.z,trans.rotation.w] )\n",
    "            #ypr = [ i  / np.pi * 180 for i in rot.GetEulerZYX() ]\n",
    "            #print(ypr[2],ypr[1],ypr[0])\n",
    "            \n",
    "            rot = R.from_quat([ trans.rotation.x,trans.rotation.y,trans.rotation.z,trans.rotation.w])\n",
    "            rpy = rot.as_euler('XYZ',degrees=True) #extrinsic\n",
    "            break\n",
    "        except (tf2_ros.LookupException, tf2_ros.ConnectivityException, tf2_ros.ExtrapolationException) as e:\n",
    "            #print (\"Fail\", e)\n",
    "            continue\n",
    "    if quat==0:\n",
    "        return trans.translation.x, trans.translation.y, trans.translation.z, rpy[0],rpy[1],rpy[2] #ypr[2], ypr[1], ypr[0]\n",
    "    elif quat==1:\n",
    "        return trans.translation.x, trans.translation.y, trans.translation.z, trans.rotation.x, trans.rotation.y, trans.rotation.z, trans.rotation.w\n",
    "    \n",
    "    "
   ]
  },
  {
   "cell_type": "code",
   "execution_count": 4,
   "id": "c799185b",
   "metadata": {},
   "outputs": [
    {
     "name": "stdout",
     "output_type": "stream",
     "text": [
      "color frame: (480, 640, 3)  Depth frame: (480, 640)\n",
      "Center of image: 232 mm\n"
     ]
    }
   ],
   "source": [
    "color_frame, depth_frame = grab_frame()\n",
    "print(\"color frame:\",color_frame.shape, \" Depth frame:\",depth_frame.shape)\n",
    "\n",
    "#Check center pixel distance\n",
    "\n",
    "point = (320, 240)\n",
    "\n",
    "#color_frame, depth_frame = grab_frame()\n",
    "\n",
    "distance = depth_frame[point[1], point[0]]\n",
    "print(\"Center of image:\", distance, \"mm\")"
   ]
  },
  {
   "cell_type": "markdown",
   "id": "e14a40ae",
   "metadata": {},
   "source": [
    "\n",
    "start_point,end_point = box_pos(320, 240, 10, 10, centered=1)  #x,y,width,height, 0-- top left coord, 1--- center coord\n",
    "\n",
    "cf = color_frame\n",
    "for i in range (color_frame.shape[0]):\n",
    "    for j in range (color_frame.shape[1]):\n",
    "        if depth_frame[i][j] == 0:\n",
    "            cf[i][j] = [0 , 0, 0] \n",
    "\n",
    "plt.imshow(cf)\n",
    "plt.show()\n",
    "window_name = 'Filtered_image'  # Window name in which image is displayed\n",
    "\n",
    "cv2.rectangle(cf, start_point, end_point, (0, 0, 255), 1)\n",
    "cv2.imshow(window_name, cf)\n",
    "cv2.waitKey(0)\n",
    "cv2.destroyAllWindows()\n"
   ]
  },
  {
   "cell_type": "markdown",
   "id": "92ae4c9e",
   "metadata": {},
   "source": [
    "#color_frame_crop = cf[start_point[1]:end_point[1], start_point[0]:end_point[0]]\n",
    "\n",
    "color_frame_crop = cf[start_point[1]:end_point[1], start_point[0]:end_point[0]]\n",
    "depth_frame_crop = depth_frame[start_point[1]:end_point[1], start_point[0]:end_point[0]]\n",
    "\n",
    "print(depth_frame_crop.shape)\n",
    "zz=depth_frame_crop.T\n",
    "print(zz.shape)\n",
    "\n",
    "#cv2.imshow(\"cropped\", depth_frame_crop)\n",
    "#cv2.waitKey(0)\n",
    "#cv2.destroyAllWindows()"
   ]
  },
  {
   "cell_type": "code",
   "execution_count": 5,
   "id": "a2afe395",
   "metadata": {},
   "outputs": [
    {
     "name": "stdout",
     "output_type": "stream",
     "text": [
      "RGBDImage of size \n",
      "Color image : 640x480, with 3 channels.\n",
      "Depth image : 640x480, with 1 channels.\n",
      "Use numpy.asarray to access buffer data.\n"
     ]
    }
   ],
   "source": [
    "pt_cloud = tst_dataset(color_frame, depth_frame)\n"
   ]
  },
  {
   "cell_type": "code",
   "execution_count": 6,
   "id": "bdac78c4",
   "metadata": {
    "scrolled": true
   },
   "outputs": [
    {
     "name": "stdout",
     "output_type": "stream",
     "text": [
      "Recompute the normal of the downsampled point cloud\n"
     ]
    }
   ],
   "source": [
    "downpcd = pt_cloud.voxel_down_sample(voxel_size=0.01)\n",
    "#o3d.visualization.draw_geometries([downpcd])\n",
    "\n",
    "print(\"Recompute the normal of the downsampled point cloud\")\n",
    "downpcd.estimate_normals(search_param=o3d.geometry.KDTreeSearchParamHybrid(radius=0.05, max_nn=30)) #radius in meters\n",
    "\n",
    "#o3d.visualization.draw_geometries([downpcd], point_show_normal=True)\n",
    "\n",
    "v1_normal = np.array(downpcd.normals)\n",
    "v1_normal_pts = np.array(downpcd.points)\n"
   ]
  },
  {
   "cell_type": "code",
   "execution_count": 7,
   "id": "a205e1bc",
   "metadata": {
    "scrolled": true
   },
   "outputs": [
    {
     "name": "stdout",
     "output_type": "stream",
     "text": [
      "Align normals towards camera\n"
     ]
    },
    {
     "data": {
      "text/plain": [
       "array([[ 0.00218843,  0.68765521,  0.72603411],\n",
       "       [ 0.00138257,  0.68788257,  0.72582068],\n",
       "       [ 0.00167237,  0.69019623,  0.72362032],\n",
       "       ...,\n",
       "       [ 0.00037378,  0.69567912,  0.71835258],\n",
       "       [ 0.00030111, -0.02598239,  0.99966236],\n",
       "       [-0.00000192,  0.69566663,  0.71836477]])"
      ]
     },
     "execution_count": 7,
     "metadata": {},
     "output_type": "execute_result"
    }
   ],
   "source": [
    "print(\"Align normals towards camera\") #orient_normals_towards_camera_location(self, camera_location=array([0.0, 0.0, 0.0]))\n",
    "\n",
    "downpcd.orient_normals_towards_camera_location(camera_location=[0.0, 0.0, 1.0])\n",
    "\n",
    "#o3d.visualization.draw_geometries([downpcd], point_show_normal=True)\n",
    "\n",
    "v2_camera = np.array(downpcd.normals)\n",
    "v2_camera_pts = np.array(downpcd.points)\n",
    "v2_camera"
   ]
  },
  {
   "cell_type": "code",
   "execution_count": 8,
   "id": "e725f29e",
   "metadata": {},
   "outputs": [
    {
     "data": {
      "text/plain": [
       "array([ 0.01503425, -0.0127284 , -0.21979226])"
      ]
     },
     "execution_count": 8,
     "metadata": {},
     "output_type": "execute_result"
    }
   ],
   "source": [
    "idx = np.where(abs(v1_normal_pts[:,2]) < (distance/1000)+0.01)[0] #fetch all indexes of values less than distance of center of img 0.3 in column 3 of rec\n",
    "#idx = np.where(abs(v1_normal_pts[:,2]) < abs(v1_normal_pts[:,2]).max()-0.02)[0] #Remove ground\n",
    "\n",
    "filtered_Pt_Cloud = downpcd.select_by_index(idx, invert=False)\n",
    "o3d.visualization.draw_geometries([filtered_Pt_Cloud], point_show_normal=True)\n",
    "nor = np.array(filtered_Pt_Cloud.normals)\n",
    "pts = np.array(filtered_Pt_Cloud.points)\n",
    "filtered_Pt_Cloud.get_center()\n"
   ]
  },
  {
   "cell_type": "code",
   "execution_count": 9,
   "id": "9163868b",
   "metadata": {
    "scrolled": true
   },
   "outputs": [
    {
     "name": "stdout",
     "output_type": "stream",
     "text": [
      "0.004822162154294711\n",
      "229\n",
      "\n",
      "Center Coordinates(ground truth): [ 0.01503425 -0.0127284  -0.21979226]\n",
      "Points Coordinates(estimated center point): [ 0.01983689 -0.01233971 -0.21998413]\n",
      "Normal Coordinates(Normal of estimated center point): [0.00102814 0.69538597 0.71863571]\n",
      "Tilt Angle: 44.0\n"
     ]
    }
   ],
   "source": [
    "distance,index = spatial.KDTree(pts).query( filtered_Pt_Cloud.get_center() ) #find coordinates \n",
    "                                                                             #that are closest to the center \n",
    "\n",
    "print(distance)\n",
    "print(index)\n",
    "print()\n",
    "print(\"Center Coordinates(ground truth):\",filtered_Pt_Cloud.get_center())\n",
    "print(\"Points Coordinates(estimated center point):\",pts[index])\n",
    "print(\"Normal Coordinates(Normal of estimated center point):\",nor[index])\n",
    "print(\"Tilt Angle:\", np.round(np.degrees(angle_between((0,0,1), nor[index]))) ) "
   ]
  },
  {
   "cell_type": "code",
   "execution_count": 10,
   "id": "78b62604",
   "metadata": {},
   "outputs": [
    {
     "name": "stdout",
     "output_type": "stream",
     "text": [
      "Angle: 0\n",
      "\n",
      "Positive X count: 343   Positive Y count: 367   Positive Z count: 367      Out of: 367\n"
     ]
    }
   ],
   "source": [
    "print('Angle: 0')\n",
    "print()\n",
    "print('Positive X count:', np.sum(np.array(nor[:,0]) >= 0, axis=0), \n",
    "      '  Positive Y count:',np.sum(np.array(nor[:,1]) >= 0, axis=0), \n",
    "      '  Positive Z count:',np.sum(np.array(nor[:,2]) >= 0, axis=0), '     Out of:',len(nor[:,0]))"
   ]
  },
  {
   "cell_type": "code",
   "execution_count": 11,
   "id": "b4664d1a",
   "metadata": {
    "scrolled": true
   },
   "outputs": [
    {
     "name": "stdout",
     "output_type": "stream",
     "text": [
      "Estimated angle between Normal and Camera\n",
      "\n",
      "1   43.0\n",
      "2   43.0\n",
      "3   44.0\n",
      "4   44.0\n",
      "5   44.0\n",
      "6   44.0\n",
      "7   43.0\n",
      "8   44.0\n",
      "9   44.0\n",
      "10   44.0\n",
      "11   44.0\n",
      "12   44.0\n",
      "13   44.0\n",
      "14   44.0\n",
      "15   44.0\n",
      "16   44.0\n",
      "17   44.0\n",
      "18   44.0\n",
      "19   44.0\n",
      "20   44.0\n",
      "21   44.0\n",
      "22   44.0\n",
      "23   44.0\n",
      "24   44.0\n",
      "25   44.0\n",
      "26   44.0\n",
      "27   44.0\n",
      "28   44.0\n",
      "29   44.0\n",
      "30   44.0\n",
      "31   44.0\n",
      "32   44.0\n",
      "33   44.0\n",
      "34   44.0\n",
      "35   44.0\n",
      "36   44.0\n",
      "37   44.0\n",
      "38   44.0\n",
      "39   44.0\n",
      "40   44.0\n",
      "41   44.0\n",
      "42   44.0\n",
      "43   44.0\n",
      "44   44.0\n",
      "45   44.0\n",
      "46   44.0\n",
      "47   44.0\n",
      "48   44.0\n",
      "49   44.0\n",
      "50   44.0\n",
      "51   44.0\n",
      "52   44.0\n",
      "53   44.0\n",
      "54   44.0\n",
      "55   44.0\n",
      "56   44.0\n",
      "57   44.0\n",
      "58   44.0\n",
      "59   44.0\n",
      "60   44.0\n",
      "61   44.0\n",
      "62   44.0\n",
      "63   44.0\n",
      "64   44.0\n",
      "65   44.0\n",
      "66   44.0\n",
      "67   44.0\n",
      "68   44.0\n",
      "69   44.0\n",
      "70   44.0\n",
      "71   44.0\n",
      "72   44.0\n",
      "73   44.0\n",
      "74   44.0\n",
      "75   44.0\n",
      "76   44.0\n",
      "77   44.0\n",
      "78   44.0\n",
      "79   44.0\n",
      "80   44.0\n",
      "81   44.0\n",
      "82   44.0\n",
      "83   44.0\n",
      "84   44.0\n",
      "85   44.0\n",
      "86   44.0\n",
      "87   44.0\n",
      "88   44.0\n",
      "89   44.0\n",
      "90   44.0\n",
      "91   44.0\n",
      "92   44.0\n",
      "93   43.0\n",
      "94   44.0\n",
      "95   44.0\n",
      "96   44.0\n",
      "97   44.0\n",
      "98   44.0\n",
      "99   44.0\n",
      "100   44.0\n",
      "101   44.0\n",
      "102   44.0\n",
      "103   44.0\n",
      "104   44.0\n",
      "105   44.0\n",
      "106   44.0\n",
      "107   44.0\n",
      "108   44.0\n",
      "109   44.0\n",
      "110   44.0\n",
      "111   44.0\n",
      "112   44.0\n",
      "113   44.0\n",
      "114   44.0\n",
      "115   44.0\n",
      "116   44.0\n",
      "117   44.0\n",
      "118   44.0\n",
      "119   44.0\n",
      "120   44.0\n",
      "121   44.0\n",
      "122   44.0\n",
      "123   44.0\n",
      "124   44.0\n",
      "125   44.0\n",
      "126   44.0\n",
      "127   44.0\n",
      "128   44.0\n",
      "129   44.0\n",
      "130   44.0\n",
      "131   44.0\n",
      "132   44.0\n",
      "133   44.0\n",
      "134   44.0\n",
      "135   44.0\n",
      "136   44.0\n",
      "137   44.0\n",
      "138   44.0\n",
      "139   44.0\n",
      "140   44.0\n",
      "141   44.0\n",
      "142   44.0\n",
      "143   44.0\n",
      "144   44.0\n",
      "145   44.0\n",
      "146   44.0\n",
      "147   44.0\n",
      "148   44.0\n",
      "149   44.0\n",
      "150   44.0\n",
      "151   44.0\n",
      "152   44.0\n",
      "153   44.0\n",
      "154   44.0\n",
      "155   44.0\n",
      "156   44.0\n",
      "157   44.0\n",
      "158   44.0\n",
      "159   44.0\n",
      "160   44.0\n",
      "161   44.0\n",
      "162   44.0\n",
      "163   44.0\n",
      "164   44.0\n",
      "165   44.0\n",
      "166   44.0\n",
      "167   44.0\n",
      "168   44.0\n",
      "169   44.0\n",
      "170   44.0\n",
      "171   44.0\n",
      "172   44.0\n",
      "173   44.0\n",
      "174   44.0\n",
      "175   44.0\n",
      "176   44.0\n",
      "177   44.0\n",
      "178   44.0\n",
      "179   44.0\n",
      "180   44.0\n",
      "181   44.0\n",
      "182   44.0\n",
      "183   44.0\n",
      "184   44.0\n",
      "185   44.0\n",
      "186   44.0\n",
      "187   44.0\n",
      "188   44.0\n",
      "189   44.0\n",
      "190   44.0\n",
      "191   44.0\n",
      "192   44.0\n",
      "193   44.0\n",
      "194   44.0\n",
      "195   44.0\n",
      "196   44.0\n",
      "197   44.0\n",
      "198   44.0\n",
      "199   44.0\n",
      "200   44.0\n",
      "201   44.0\n",
      "202   44.0\n",
      "203   44.0\n",
      "204   44.0\n",
      "205   44.0\n",
      "206   44.0\n",
      "207   44.0\n",
      "208   44.0\n",
      "209   44.0\n",
      "210   44.0\n",
      "211   44.0\n",
      "212   44.0\n",
      "213   44.0\n",
      "214   44.0\n",
      "215   44.0\n",
      "216   44.0\n",
      "217   44.0\n",
      "218   44.0\n",
      "219   44.0\n",
      "220   44.0\n",
      "221   44.0\n",
      "222   44.0\n",
      "223   44.0\n",
      "224   44.0\n",
      "225   44.0\n",
      "226   44.0\n",
      "227   44.0\n",
      "228   44.0\n",
      "229   44.0\n",
      "230   44.0\n",
      "231   44.0\n",
      "232   44.0\n",
      "233   44.0\n",
      "234   44.0\n",
      "235   44.0\n",
      "236   44.0\n",
      "237   44.0\n",
      "238   44.0\n",
      "239   44.0\n",
      "240   44.0\n",
      "241   44.0\n",
      "242   44.0\n",
      "243   44.0\n",
      "244   44.0\n",
      "245   44.0\n",
      "246   44.0\n",
      "247   44.0\n",
      "248   44.0\n",
      "249   44.0\n",
      "250   44.0\n",
      "251   44.0\n",
      "252   44.0\n",
      "253   43.0\n",
      "254   44.0\n",
      "255   44.0\n",
      "256   44.0\n",
      "257   44.0\n",
      "258   44.0\n",
      "259   44.0\n",
      "260   44.0\n",
      "261   44.0\n",
      "262   44.0\n",
      "263   44.0\n",
      "264   44.0\n",
      "265   44.0\n",
      "266   44.0\n",
      "267   44.0\n",
      "268   43.0\n",
      "269   44.0\n",
      "270   44.0\n",
      "271   44.0\n",
      "272   44.0\n",
      "273   43.0\n",
      "274   44.0\n",
      "275   44.0\n",
      "276   44.0\n",
      "277   44.0\n",
      "278   44.0\n",
      "279   44.0\n",
      "280   44.0\n",
      "281   44.0\n",
      "282   44.0\n",
      "283   44.0\n",
      "284   44.0\n",
      "285   44.0\n",
      "286   44.0\n",
      "287   44.0\n",
      "288   44.0\n",
      "289   44.0\n",
      "290   44.0\n",
      "291   44.0\n",
      "292   44.0\n",
      "293   44.0\n",
      "294   44.0\n",
      "295   44.0\n",
      "296   44.0\n",
      "297   44.0\n",
      "298   44.0\n",
      "299   44.0\n",
      "300   44.0\n",
      "301   44.0\n",
      "302   44.0\n",
      "303   44.0\n",
      "304   44.0\n",
      "305   44.0\n",
      "306   44.0\n",
      "307   44.0\n",
      "308   44.0\n",
      "309   44.0\n",
      "310   44.0\n",
      "311   44.0\n",
      "312   44.0\n",
      "313   44.0\n",
      "314   44.0\n",
      "315   44.0\n",
      "316   44.0\n",
      "317   44.0\n",
      "318   44.0\n",
      "319   44.0\n",
      "320   43.0\n",
      "321   44.0\n",
      "322   44.0\n",
      "323   44.0\n",
      "324   44.0\n",
      "325   44.0\n",
      "326   44.0\n",
      "327   44.0\n",
      "328   44.0\n",
      "329   44.0\n",
      "330   44.0\n",
      "331   44.0\n",
      "332   44.0\n",
      "333   44.0\n",
      "334   44.0\n",
      "335   44.0\n",
      "336   44.0\n",
      "337   44.0\n",
      "338   44.0\n",
      "339   44.0\n",
      "340   44.0\n",
      "341   44.0\n",
      "342   44.0\n",
      "343   44.0\n",
      "344   44.0\n",
      "345   44.0\n",
      "346   44.0\n",
      "347   44.0\n",
      "348   44.0\n",
      "349   44.0\n",
      "350   44.0\n",
      "351   44.0\n",
      "352   44.0\n",
      "353   44.0\n",
      "354   44.0\n",
      "355   44.0\n",
      "356   44.0\n",
      "357   44.0\n",
      "358   44.0\n",
      "359   44.0\n",
      "360   44.0\n",
      "361   44.0\n",
      "362   44.0\n",
      "363   44.0\n",
      "364   44.0\n",
      "365   44.0\n",
      "366   44.0\n",
      "367   44.0\n"
     ]
    }
   ],
   "source": [
    "print(\"Estimated angle between Normal and Camera\")\n",
    "print()\n",
    "arr = np.array([])\n",
    "for i in range(len(nor)):\n",
    "    arr = np.append(arr, [np.round(np.degrees(angle_between((0,0,1), nor[i])))])\n",
    "    print(i+1,\" \", np.round(np.degrees(angle_between((0,0,1), nor[i]))) )"
   ]
  },
  {
   "cell_type": "code",
   "execution_count": 12,
   "id": "d8f73fd0",
   "metadata": {},
   "outputs": [
    {
     "data": {
      "text/plain": [
       "43.97820163487739"
      ]
     },
     "execution_count": 12,
     "metadata": {},
     "output_type": "execute_result"
    }
   ],
   "source": [
    "arr.mean()"
   ]
  },
  {
   "cell_type": "code",
   "execution_count": null,
   "id": "4d0cdc86",
   "metadata": {},
   "outputs": [],
   "source": []
  },
  {
   "cell_type": "code",
   "execution_count": 13,
   "id": "b3b4a606",
   "metadata": {
    "scrolled": false
   },
   "outputs": [
    {
     "data": {
      "image/png": "[encoded data removed]",
      "text/plain": [
       "<Figure size 640x480 with 1 Axes>"
      ]
     },
     "metadata": {},
     "output_type": "display_data"
    },
    {
     "name": "stdout",
     "output_type": "stream",
     "text": [
      "[[ 43.   8.]\n",
      " [ 44. 359.]]\n"
     ]
    }
   ],
   "source": [
    "hi=np.histogram(arr,bins=10)\n",
    "np.set_printoptions(suppress=True)\n",
    "plt.hist(arr,bins=10)\n",
    "plt.title(\"Angle Distribution of depth Image\")\n",
    "plt.show()\n",
    "unique, counts = np.unique(arr, return_counts=True)\n",
    "print(np.asarray((unique, counts)).T)\n"
   ]
  },
  {
   "cell_type": "code",
   "execution_count": 14,
   "id": "4fb855df",
   "metadata": {},
   "outputs": [
    {
     "data": {
      "text/plain": [
       "(array([43., 44.]), array([  8, 359]))"
      ]
     },
     "execution_count": 14,
     "metadata": {},
     "output_type": "execute_result"
    }
   ],
   "source": [
    "unique, counts"
   ]
  },
  {
   "cell_type": "code",
   "execution_count": 99,
   "id": "be28042a",
   "metadata": {},
   "outputs": [],
   "source": [
    "def getRotation(v1, v2):\n",
    "\n",
    "    vec1 = v1 / np.linalg.norm(v1)\n",
    "    vec2 = v2 / np.linalg.norm(v2)\n",
    "\n",
    "    angle = math.acos(np.dot(vec1, vec2))\n",
    "    vector = np.cross(vec1, vec2)/np.linalg.norm(np.cross(vec1, vec2))\n",
    "    \n",
    "    #print(\"Angle:\",angle)\n",
    "    #print(\"Vector:\",vector)\n",
    "    #print()\n",
    "\n",
    "    #Rotation = filtered_Pt_Cloud.get_rotation_matrix_from_axis_angle(angle*vector) #alternative Open3D lib.\n",
    "    Rotation = R.from_rotvec(angle*vector)\n",
    "    \n",
    "    #print(\"Rotation Matrix:\")\n",
    "    #print(rot.as_matrix())\n",
    "    #print()\n",
    "    return Rotation, angle, vector\n"
   ]
  },
  {
   "cell_type": "code",
   "execution_count": 108,
   "id": "f949d232",
   "metadata": {},
   "outputs": [
    {
     "name": "stdout",
     "output_type": "stream",
     "text": [
      "Rotation wrt camera: Roll: 179.9180280072039 Pitch: -44.057982375003334 Yaw: -89.9668329027668\n",
      "\n",
      "In Quaternion form xyzw: [ 0.65548374 -0.65548374  0.26482649  0.26561075]\n"
     ]
    }
   ],
   "source": [
    "rot,angle, vector = getRotation([0,0,1], nor[index])\n",
    "\n",
    "\n",
    "\n",
    "q = R.from_euler('xyz', [180., 0., -90.], degrees=True)   #R.from_quat([0.707,0.707,-0.,0.])\n",
    "\n",
    "#multiply by this rotation to make it equivalent to the actual plane in world coordinate system!!\n",
    "\n",
    "res_matrix = rot * q\n",
    "\n",
    "r = res_matrix.as_euler(\"xyz\", degrees=True)\n",
    "r_quat = res_matrix.as_quat()            #x,y,z,w format\n",
    "\n",
    "print(\"Rotation wrt camera:\",\"Roll:\", r[0], \"Pitch:\", r[1], \"Yaw:\", r[2])\n",
    "print()\n",
    "print(\"In Quaternion form xyzw:\",r_quat)"
   ]
  },
  {
   "cell_type": "code",
   "execution_count": 118,
   "id": "09dbec79",
   "metadata": {},
   "outputs": [
    {
     "name": "stdout",
     "output_type": "stream",
     "text": [
      "Trans XYZ:                             0.311 -0.003 0.236\n",
      "Rot in world coordinate system (deg): -0.14 45.138 0.04\n"
     ]
    }
   ],
   "source": [
    "##Broadcast the frame to tf2 under child name connected to given frame\n",
    "\n",
    "\n",
    "t.header.frame_id = \"camera_depth_optical_frame\"\n",
    "t.child_frame_id = \"plane\"\n",
    "\n",
    "\n",
    "t.header.stamp = rospy.Time.now()\n",
    "t.transform.translation.x = pts[index][0]\n",
    "t.transform.translation.y = pts[index][1]\n",
    "t.transform.translation.z = -pts[index][2] #becaues z in opposite dirn\n",
    "\n",
    "#r_quat = tf.transformations.quaternion_from_euler(Roll,Pitch,Yaw)\n",
    "\n",
    "t.transform.rotation.x = r_quat[0]\n",
    "t.transform.rotation.y = r_quat[1]\n",
    "t.transform.rotation.z = r_quat[2]\n",
    "t.transform.rotation.w = r_quat[3]\n",
    "\n",
    "br.sendTransform(t)\n",
    "#rate.sleep()\n",
    "aa = fetch_transform(tfbuffer,'world', 'plane',quat=0)\n",
    "aa=np.round(aa,3)\n",
    "print(\"Trans XYZ:                            \",aa[0], aa[1], aa[2])\n",
    "print(\"Rot in world coordinate system (deg):\",aa[3],aa[4],aa[5])\n",
    "\n"
   ]
  },
  {
   "cell_type": "code",
   "execution_count": null,
   "id": "1a716c2c",
   "metadata": {},
   "outputs": [],
   "source": []
  },
  {
   "cell_type": "code",
   "execution_count": 23,
   "id": "75372f49",
   "metadata": {},
   "outputs": [
    {
     "data": {
      "text/plain": [
       "[0.3, 0, 0.2, 0, 0, 0]"
      ]
     },
     "execution_count": 23,
     "metadata": {},
     "output_type": "execute_result"
    }
   ],
   "source": [
    "\n",
    "Box_pose = [0.3, 0, 0.2, 0, 0, 0]\n",
    "Box_pose"
   ]
  },
  {
   "cell_type": "code",
   "execution_count": 119,
   "id": "55294226",
   "metadata": {},
   "outputs": [
    {
     "name": "stdout",
     "output_type": "stream",
     "text": [
      "[ 0.  0. 90.]\n"
     ]
    }
   ],
   "source": [
    "f1 = PyKDL.Frame(PyKDL.Rotation.RPY(0,0,0), PyKDL.Vector(0, 0, 0))\n",
    "f2 = PyKDL.Frame(PyKDL.Rotation.RPY(0, 0, np.pi/2), PyKDL.Vector(0,0,0))\n",
    "\n",
    "res1 = PyKDL.diff(f1, f2)\n",
    "\n",
    "res1 = np.degrees([res1[3],res1[4],res1[5]])\n",
    "print(res1)"
   ]
  },
  {
   "cell_type": "code",
   "execution_count": null,
   "id": "1c7533c0",
   "metadata": {},
   "outputs": [],
   "source": []
  },
  {
   "cell_type": "code",
   "execution_count": 82,
   "id": "6f89082a",
   "metadata": {},
   "outputs": [
    {
     "data": {
      "text/plain": [
       "array([180.,   0., -90.])"
      ]
     },
     "execution_count": 82,
     "metadata": {},
     "output_type": "execute_result"
    }
   ],
   "source": [
    "q = R.from_quat([0.707,-0.707,-0.,0.])\n",
    "\n",
    "r = q.as_euler(\"xyz\", degrees=True)\n",
    "r\n"
   ]
  },
  {
   "cell_type": "code",
   "execution_count": 83,
   "id": "b27328d8",
   "metadata": {},
   "outputs": [
    {
     "data": {
      "text/plain": [
       "array([0.70710678, 0.70710678, 0.        , 0.        ])"
      ]
     },
     "execution_count": 83,
     "metadata": {},
     "output_type": "execute_result"
    }
   ],
   "source": [
    "q = R.from_euler('xyz', [180., 0., 90.], degrees=True)\n",
    "\n",
    "r = q.as_quat()\n",
    "r\n"
   ]
  }
 ],
 "metadata": {
  "kernelspec": {
   "display_name": "Python 3 (ipykernel)",
   "language": "python",
   "name": "python3"
  },
  "language_info": {
   "codemirror_mode": {
    "name": "ipython",
    "version": 3
   },
   "file_extension": ".py",
   "mimetype": "text/x-python",
   "name": "python",
   "nbconvert_exporter": "python",
   "pygments_lexer": "ipython3",
   "version": "3.9.16"
  }
 },
 "nbformat": 4,
 "nbformat_minor": 5
}
