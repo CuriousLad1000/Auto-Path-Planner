{
 "cells": [
  {
   "cell_type": "markdown",
   "id": "04d0cfd7",
   "metadata": {},
   "source": [
    " Source:   AoLyu /Some-implementions-with-RGBD-camera-RealSense-D435 "
   ]
  },
  {
   "cell_type": "code",
   "execution_count": 6,
   "id": "a0d2327a",
   "metadata": {},
   "outputs": [],
   "source": [
    "import pyrealsense2 as rs\n",
    "import numpy as np\n",
    "import cv2\n",
    "import time\n",
    "import open3d as o3d \n",
    "import os\n",
    "\n",
    "view_ind = 0\n",
    "breakLoopFlag = 0\n",
    "backgroundColorFlag = 1\n"
   ]
  },
  {
   "cell_type": "code",
   "execution_count": 22,
   "id": "ddfa768c",
   "metadata": {},
   "outputs": [
    {
     "name": "stdout",
     "output_type": "stream",
     "text": [
      "640 480 602.7178344726562 601.6136474609375 313.068359375 230.37461853027344\n",
      "<class 'open3d.cuda.pybind.camera.PinholeCameraIntrinsic'>\n"
     ]
    }
   ],
   "source": [
    "align = rs.align(rs.stream.color)\n",
    "\n",
    "config = rs.config()\n",
    "config.enable_stream(rs.stream.depth, 640, 480, rs.format.z16, 15)\n",
    "config.enable_stream(rs.stream.color, 640, 480, rs.format.rgb8, 15)\n",
    "pipeline = rs.pipeline()\n",
    "profile = pipeline.start(config)\n",
    "\n",
    "# get camera intrinsics\n",
    "intr = profile.get_stream(rs.stream.color).as_video_stream_profile().get_intrinsics()\n",
    "print(intr.width, intr.height, intr.fx, intr.fy, intr.ppx, intr.ppy)\n",
    "pinhole_camera_intrinsic = o3d.camera.PinholeCameraIntrinsic(intr.width, intr.height, intr.fx, intr.fy, intr.ppx, intr.ppy)\n",
    "print(type(pinhole_camera_intrinsic))\n",
    "\n"
   ]
  },
  {
   "cell_type": "code",
   "execution_count": 23,
   "id": "a6bf1f64",
   "metadata": {},
   "outputs": [
    {
     "data": {
      "text/plain": [
       "PinholeCameraIntrinsic with width = 640 and height = 480.\n",
       "Access intrinsics with intrinsic_matrix."
      ]
     },
     "execution_count": 23,
     "metadata": {},
     "output_type": "execute_result"
    }
   ],
   "source": [
    "pinhole_camera_intrinsic"
   ]
  },
  {
   "cell_type": "code",
   "execution_count": 24,
   "id": "452ca50b",
   "metadata": {},
   "outputs": [
    {
     "data": {
      "text/plain": [
       "array([[602.71783447,   0.        , 313.06835938],\n",
       "       [  0.        , 601.61364746, 230.37461853],\n",
       "       [  0.        ,   0.        ,   1.        ]])"
      ]
     },
     "execution_count": 24,
     "metadata": {},
     "output_type": "execute_result"
    }
   ],
   "source": [
    "pinhole_camera_intrinsic.intrinsic_matrix"
   ]
  },
  {
   "cell_type": "code",
   "execution_count": 25,
   "id": "fc01a8e5",
   "metadata": {},
   "outputs": [],
   "source": [
    "\n",
    "def saveCurrentRGBD(vis):\n",
    "    global view_ind\n",
    "    if not os.path.exists('./output/'): \n",
    "        os.makedirs('./output')\n",
    "    cv2.imwrite('./output/depth_'+str(view_ind)+'.png',depth_image)\n",
    "    cv2.imwrite('./output/color_'+str(view_ind)+'.png',color_image1)\n",
    "    o3d.io.write_point_cloud('./output/pointcloud_'+str(view_ind)+'.pcd', pcd)\n",
    "    print('No.'+str(view_ind)+' shot is saved.' )\n",
    "\n",
    "    return False\n",
    "\n",
    "def breakLoop(vis):\n",
    "    global breakLoopFlag\n",
    "    breakLoopFlag +=1\n",
    "    return False\n",
    "\n",
    "def change_background_color(vis):\n",
    "    global backgroundColorFlag\n",
    "    opt = vis.get_render_option()\n",
    "    if backgroundColorFlag:\n",
    "        opt.background_color = np.asarray([0, 0, 0])\n",
    "        backgroundColorFlag = 0\n",
    "    else:\n",
    "        opt.background_color = np.asarray([1, 1, 1])\n",
    "        backgroundColorFlag = 1\n",
    "    # background_color ~=backgroundColorFlag\n",
    "    return False\n",
    "\n",
    "key_to_callback={}\n",
    "key_to_callback[ord(\" \")] = saveCurrentRGBD\n",
    "key_to_callback[ord(\"Q\")] = breakLoop\n",
    "key_to_callback[ord(\"K\")] = change_background_color\n",
    "\n",
    "\n",
    "\n",
    "\n",
    "geometrie_added = False\n",
    "vis = o3d.visualization.VisualizerWithKeyCallback()\n",
    "\n",
    "\n",
    "vis.create_window(\"Pointcloud\",640,480)\n",
    "pointcloud = o3d.geometry.PointCloud()\n",
    "\n",
    "vis.register_key_callback(ord(\" \"), saveCurrentRGBD)\n",
    "vis.register_key_callback(ord(\"Q\"), breakLoop)\n",
    "vis.register_key_callback(ord(\"K\"), change_background_color)\n",
    "\n",
    "try:\n",
    "    while True:\n",
    "        # time_start = time.time()\n",
    "        pointcloud.clear()\n",
    "\n",
    "        frames = pipeline.wait_for_frames()\n",
    "        aligned_frames = align.process(frames)\n",
    "\n",
    "        color_frame = aligned_frames.get_color_frame()\n",
    "        color_image = np.asanyarray(color_frame.get_data())\n",
    "        depth_frame = aligned_frames.get_depth_frame()\n",
    "\n",
    "        depth_frame = rs.decimation_filter(1).process(depth_frame)\n",
    "        depth_frame = rs.disparity_transform(True).process(depth_frame)\n",
    "        depth_frame = rs.spatial_filter().process(depth_frame)\n",
    "        depth_frame = rs.temporal_filter().process(depth_frame)\n",
    "        depth_frame = rs.disparity_transform(False).process(depth_frame)\n",
    "        # depth_frame = rs.hole_filling_filter().process(depth_frame)\n",
    "\n",
    "        depth_color_frame = rs.colorizer().colorize(depth_frame)\n",
    "        depth_color_image = np.asanyarray(depth_color_frame.get_data())\n",
    "\n",
    "        depth_image = np.asanyarray(depth_frame.get_data())\n",
    "        color_image1 = cv2.cvtColor(color_image, cv2.COLOR_RGB2BGR)\n",
    "\n",
    "        cv2.namedWindow('color image', cv2.WINDOW_AUTOSIZE)\n",
    "        cv2.imshow('color image', cv2.cvtColor(color_image, cv2.COLOR_RGB2BGR))\n",
    "        cv2.namedWindow('depth image', cv2.WINDOW_AUTOSIZE)\n",
    "        cv2.imshow('depth image', depth_color_image )\n",
    "\n",
    "        depth = o3d.geometry.Image(depth_image)\n",
    "        color = o3d.geometry.Image(color_image)\n",
    "\n",
    "        rgbd = o3d.geometry.RGBDImage.create_from_color_and_depth(color, depth, convert_rgb_to_intensity = False)\n",
    "        pcd = o3d.geometry.PointCloud.create_from_rgbd_image(rgbd, pinhole_camera_intrinsic)\n",
    "        pcd.transform([[1,0,0,0],[0,-1,0,0],[0,0,-1,0],[0,0,0,1]])\n",
    "        # pcd = voxel_down_sample(pcd, voxel_size = 0.003)\n",
    "\n",
    "        pointcloud += pcd\n",
    "\n",
    "        if not geometrie_added:\n",
    "            vis.add_geometry(pointcloud)\n",
    "            geometrie_added = True\n",
    "\n",
    "\n",
    "        vis.update_geometry(pointcloud)\n",
    "        vis.poll_events()\n",
    "        vis.update_renderer()\n",
    "        # time_end = time.time()\n",
    "\n",
    "        key = cv2.waitKey(1)\n",
    "\n",
    "        # print(\"FPS = {0}\".format(int(1/(time_end-time_start))))\n",
    "\n",
    "        # press 's' to save current RGBD images and pointcloud.\n",
    "        if key & 0xFF == ord(' '):\n",
    "            if not os.path.exists('./output/'): \n",
    "                os.makedirs('./output')\n",
    "            cv2.imwrite('./output/depth_'+str(view_ind)+'.png',depth_image)\n",
    "            cv2.imwrite('./output/color_'+str(view_ind)+'.png',color_image1)\n",
    "            o3d.io.write_point_cloud('./output/pointcloud_'+str(view_ind)+'.pcd', pcd)\n",
    "            print('No.'+str(view_ind) + ' shot is saved.' )\n",
    "            view_ind += 1\n",
    "\n",
    "\n",
    "        # Press esc or 'q' to close the image window\n",
    "        elif key & 0xFF == ord('q') or key == 27:\n",
    "            cv2.destroyAllWindows()\n",
    "            vis.destroy_window()\n",
    "\n",
    "            break\n",
    "\n",
    "        if breakLoopFlag:\n",
    "            cv2.destroyAllWindows()\n",
    "            vis.destroy_window()\n",
    "            break\n",
    "\n",
    "\n",
    "finally:\n",
    "    pipeline.stop()"
   ]
  },
  {
   "cell_type": "code",
   "execution_count": null,
   "id": "2247c14c",
   "metadata": {},
   "outputs": [],
   "source": []
  }
 ],
 "metadata": {
  "kernelspec": {
   "display_name": "Python 3 (ipykernel)",
   "language": "python",
   "name": "python3"
  },
  "language_info": {
   "codemirror_mode": {
    "name": "ipython",
    "version": 3
   },
   "file_extension": ".py",
   "mimetype": "text/x-python",
   "name": "python",
   "nbconvert_exporter": "python",
   "pygments_lexer": "ipython3",
   "version": "3.9.16"
  }
 },
 "nbformat": 4,
 "nbformat_minor": 5
}
