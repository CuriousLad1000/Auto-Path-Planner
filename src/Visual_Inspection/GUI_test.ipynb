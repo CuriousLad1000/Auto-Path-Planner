{
 "cells": [
  {
   "cell_type": "code",
   "execution_count": 21,
   "id": "8231676f",
   "metadata": {},
   "outputs": [],
   "source": [
    "import numpy as np\n",
    "import open3d as o3d\n",
    "import matplotlib.pyplot as plt\n",
    "import copy\n",
    "from PIL import Image\n",
    "from io import BytesIO\n",
    "\n",
    "import subprocess\n",
    "import sys\n",
    "from ast import literal_eval\n",
    "\n",
    "sample_ply_data = o3d.data.DemoCropPointCloud()\n",
    "tst_pointCloud = o3d.io.read_point_cloud(sample_ply_data.point_cloud_path)\n",
    "#o3d.visualization.draw_geometries([tst_pointCloud])\n",
    "\n",
    "def array_to_data(array):\n",
    "    im = Image.fromarray(array)\n",
    "    output_buffer = BytesIO()\n",
    "    im.save(output_buffer, format=\"PNG\")\n",
    "    data = output_buffer.getvalue()\n",
    "    return data\n",
    "\n",
    "def fetch_cloud_image(pointCloud, RX=0, RY=0, RZ=0):\n",
    "    \n",
    "    mesh = o3d.geometry.TriangleMesh.create_coordinate_frame(size=1,origin=[0, 0, 0])\n",
    "    mesh_pc= mesh.sample_points_uniformly(number_of_points=1000000, use_triangle_normal=False)\n",
    "    pointCloud+=mesh_pc\n",
    "    tmp_Rot = pointCloud.get_rotation_matrix_from_xyz((np.radians(RX), np.radians(RY), np.radians((RZ))))\n",
    "    tmp_cloud = copy.deepcopy(pointCloud)  #To avoid overwriting the original point cloud\n",
    "    tmp_cloud.rotate(tmp_Rot, center=(0, 0, 0))\n",
    "    \n",
    "    vis = o3d.visualization.Visualizer() \n",
    "    vis.create_window(visible=False, width=640, height=480) \n",
    "    vis.add_geometry(tmp_cloud) \n",
    "    vis.poll_events() \n",
    "    vis.update_renderer() \n",
    "    color = vis.capture_screen_float_buffer(True) \n",
    "    #time.sleep(5)\n",
    "    vis.destroy_window() \n",
    "    #color = np.asarray(color)\n",
    "    color = (255.0 * np.asarray(color)).astype(np.uint8)\n",
    "    color = array_to_data(color) #Format according to the GUI requirements\n",
    "    return color\n",
    "\n",
    "def Convert_message(string):\n",
    "    return [int(s) for s in re.findall('[0-9]', string)]\n",
    "\n"
   ]
  },
  {
   "cell_type": "code",
   "execution_count": 6,
   "id": "8a539508",
   "metadata": {},
   "outputs": [],
   "source": [
    "clouds = [tst_pointCloud,tst_pointCloud]"
   ]
  },
  {
   "cell_type": "code",
   "execution_count": 22,
   "id": "3914ee88",
   "metadata": {},
   "outputs": [],
   "source": [
    "def Cluster_selection_gui(clouds):\n",
    "    dat=[]  #to hold cluster's images\n",
    "    pcd_combined = o3d.geometry.PointCloud()\n",
    "    \n",
    "    for current_cloud in clouds:\n",
    "            color = fetch_cloud_image(current_cloud, RX=120, RY=0, RZ=220)  #different point clouds to be viewed\n",
    "            dat.append(color)\n",
    "    result = subprocess.run([sys.executable,  \"Cluster_selection_gui.py\"],capture_output=True,text=True,check=True,shell=False, input=repr(dat))\n",
    "    #selected_PC = Convert_message(result.stdout)\n",
    "    OP = literal_eval(result.stdout)\n",
    "    selected_PC = OP[0]\n",
    "    selected_mode = OP[1]\n",
    "\n",
    "    #for k in selected_PC:\n",
    "    #    pcd_combined += clouds[k]  #combine selected pointclouds \n",
    "    #return pcd_combined\n",
    "    return selected_PC, selected_mode\n",
    "\n"
   ]
  },
  {
   "cell_type": "code",
   "execution_count": 27,
   "id": "100bcc4b",
   "metadata": {},
   "outputs": [],
   "source": [
    "selected_PC, selected_mode = Cluster_selection_gui(clouds)\n"
   ]
  }
 ],
 "metadata": {
  "kernelspec": {
   "display_name": "Python 3 (ipykernel)",
   "language": "python",
   "name": "python3"
  },
  "language_info": {
   "codemirror_mode": {
    "name": "ipython",
    "version": 3
   },
   "file_extension": ".py",
   "mimetype": "text/x-python",
   "name": "python",
   "nbconvert_exporter": "python",
   "pygments_lexer": "ipython3",
   "version": "3.9.16"
  }
 },
 "nbformat": 4,
 "nbformat_minor": 5
}
