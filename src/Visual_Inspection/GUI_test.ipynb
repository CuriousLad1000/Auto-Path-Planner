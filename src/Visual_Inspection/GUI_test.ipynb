{
 "cells": [
  {
   "cell_type": "code",
   "execution_count": 1,
   "id": "8231676f",
   "metadata": {},
   "outputs": [
    {
     "name": "stdout",
     "output_type": "stream",
     "text": [
      "Jupyter environment detected. Enabling Open3D WebVisualizer.\n",
      "[Open3D INFO] WebRTC GUI backend enabled.\n",
      "[Open3D INFO] WebRTCWindowSystem: HTTP handshake server disabled.\n"
     ]
    }
   ],
   "source": [
    "import numpy as np\n",
    "import open3d as o3d\n",
    "import matplotlib.pyplot as plt\n",
    "import copy\n",
    "from PIL import Image\n",
    "from io import BytesIO\n",
    "\n",
    "import subprocess\n",
    "import sys\n",
    "from ast import literal_eval\n",
    "\n",
    "sample_ply_data = o3d.data.DemoCropPointCloud()\n",
    "tst_pointCloud = o3d.io.read_point_cloud(sample_ply_data.point_cloud_path)\n",
    "#o3d.visualization.draw_geometries([tst_pointCloud])\n",
    "\n",
    "def array_to_data(array):\n",
    "    im = Image.fromarray(array)\n",
    "    output_buffer = BytesIO()\n",
    "    im.save(output_buffer, format=\"PNG\")\n",
    "    data = output_buffer.getvalue()\n",
    "    return data\n",
    "\n",
    "def fetch_cloud_image(pointCloud, RX=0, RY=0, RZ=0):\n",
    "    \n",
    "    mesh = o3d.geometry.TriangleMesh.create_coordinate_frame(size=1,origin=[0, 0, 0])\n",
    "    mesh_pc= mesh.sample_points_uniformly(number_of_points=1000000, use_triangle_normal=False)\n",
    "    pointCloud+=mesh_pc\n",
    "    tmp_Rot = pointCloud.get_rotation_matrix_from_xyz((np.radians(RX), np.radians(RY), np.radians((RZ))))\n",
    "    tmp_cloud = copy.deepcopy(pointCloud)  #To avoid overwriting the original point cloud\n",
    "    tmp_cloud.rotate(tmp_Rot, center=(0, 0, 0))\n",
    "    \n",
    "    vis = o3d.visualization.Visualizer() \n",
    "    vis.create_window(visible=False, width=640, height=480) \n",
    "    vis.add_geometry(tmp_cloud) \n",
    "    vis.poll_events() \n",
    "    vis.update_renderer() \n",
    "    color = vis.capture_screen_float_buffer(True) \n",
    "    #time.sleep(5)\n",
    "    vis.destroy_window() \n",
    "    #color = np.asarray(color)\n",
    "    color = (255.0 * np.asarray(color)).astype(np.uint8)\n",
    "    color = array_to_data(color) #Format according to the GUI requirements\n",
    "    return color\n",
    "\n",
    "def Convert_message(string):\n",
    "    return [int(s) for s in re.findall('[0-9]', string)]\n",
    "\n"
   ]
  },
  {
   "cell_type": "code",
   "execution_count": null,
   "id": "8a539508",
   "metadata": {},
   "outputs": [],
   "source": [
    "clouds = [tst_pointCloud,tst_pointCloud]"
   ]
  },
  {
   "cell_type": "code",
   "execution_count": null,
   "id": "3914ee88",
   "metadata": {},
   "outputs": [],
   "source": [
    "def Cluster_selection_gui(clouds):\n",
    "    dat=[]  #to hold cluster's images\n",
    "    pcd_combined = o3d.geometry.PointCloud()\n",
    "    \n",
    "    for current_cloud in clouds:\n",
    "            color = fetch_cloud_image(current_cloud, RX=120, RY=0, RZ=220)  #different point clouds to be viewed\n",
    "            dat.append(color)\n",
    "    result = subprocess.run([sys.executable,  \"Cluster_selection_gui.py\"],capture_output=True,text=True,check=True,shell=False, input=repr(dat))\n",
    "    #selected_PC = Convert_message(result.stdout)\n",
    "    OP = literal_eval(result.stdout)\n",
    "    selected_PC = OP[0]\n",
    "    selected_mode = OP[1]\n",
    "\n",
    "    #for k in selected_PC:\n",
    "    #    pcd_combined += clouds[k]  #combine selected pointclouds \n",
    "    #return pcd_combined\n",
    "    return selected_PC, selected_mode\n",
    "\n"
   ]
  },
  {
   "cell_type": "code",
   "execution_count": null,
   "id": "100bcc4b",
   "metadata": {},
   "outputs": [],
   "source": [
    "selected_PC, selected_mode = Cluster_selection_gui(clouds)\n"
   ]
  },
  {
   "cell_type": "code",
   "execution_count": null,
   "id": "4a61dde1",
   "metadata": {},
   "outputs": [],
   "source": []
  },
  {
   "cell_type": "markdown",
   "id": "efec1468",
   "metadata": {},
   "source": [
    "# Front Page"
   ]
  },
  {
   "cell_type": "code",
   "execution_count": 2,
   "id": "afa002fa",
   "metadata": {},
   "outputs": [
    {
     "data": {
      "text/plain": [
       "3"
      ]
     },
     "execution_count": 2,
     "metadata": {},
     "output_type": "execute_result"
    }
   ],
   "source": [
    "def Front_gui(data_in=0):\n",
    "    result = subprocess.run([sys.executable,  \"Front_gui.py\"],capture_output=True,text=True,check=True,shell=False, input=repr(data_in))\n",
    "    data_out = literal_eval(result.stdout)\n",
    "    return data_out\n",
    "\n",
    "data_out = Front_gui()\n",
    "data_out\n"
   ]
  },
  {
   "cell_type": "code",
   "execution_count": null,
   "id": "070222db",
   "metadata": {},
   "outputs": [],
   "source": []
  },
  {
   "cell_type": "markdown",
   "id": "666baba2",
   "metadata": {},
   "source": [
    "# Settings"
   ]
  },
  {
   "cell_type": "code",
   "execution_count": null,
   "id": "56c49471",
   "metadata": {},
   "outputs": [],
   "source": [
    "data_in = [1,0.01,0.13,0.0,0.05,0.0,True,200,0,0.05,10,0.01,3,0.8,True,True,0.3,3,0.1,True]\n",
    "\n",
    "def Setting_gui(data_in):\n",
    "\n",
    "    if len(data_in) < 20:\n",
    "        print(\"Invalid data. Setting to default values.\")\n",
    "        data_in =[1,0.01,0.13,0.0,0.05,0.0,True,200,0,0.05,10,0.01,3,0.8,True,True,0.3,3,0.1,True] \n",
    "    result = subprocess.run([sys.executable,  \"Settings_gui.py\"],capture_output=True,text=True,check=True,shell=False, input=repr(data_in))\n",
    "    data_out = literal_eval(result.stdout)\n",
    "    return data_out\n",
    "\n",
    "data_out = Setting_gui(data_in)\n",
    "\n",
    "status_flag = data_out[0]\n",
    "samples = data_out[1] #1\n",
    "spacing = data_out[2] #0.01\n",
    "offset_y = data_out[3] #0.13\n",
    "offset_z = data_out[4] #0.0\n",
    "trim_base = data_out[5] #0.05\n",
    "manual_offset = data_out[6] #0.0\n",
    "\n",
    "Cluster_centered = data_out[7] #True\n",
    "Cluster_idx = data_out[8] #200\n",
    "Cluster_discard = data_out[9] #0 #disabled else put number of pts as threshold\n",
    "eps = data_out[10] #0.05\n",
    "min_points = data_out[11] #10\n",
    "Cluster_trim = data_out[12] #0.01\n",
    "\n",
    "TGT_coord_Samples = data_out[13] #3\n",
    "TGT_final_trim = data_out[14] #0.8 #add max. euclidean distance away from robot's base (less than max reach of EEF) or z values less than...\n",
    "TGT_reverse = data_out[15] #True\n",
    "TGT_preview = data_out[16] #True\n",
    "z_offset = data_out[17] #0.3\n",
    "coord_skip = data_out[18] #3\n",
    "TGT_motion_delay = data_out[19] #0.1\n",
    "TGT_save = data_out[20] #True\n",
    "\n",
    "print(status_flag, samples,spacing,offset_y,offset_z,trim_base,manual_offset,Cluster_centered,\n",
    "            Cluster_idx,Cluster_discard,eps,min_points,Cluster_trim,TGT_coord_Samples,\n",
    "            TGT_final_trim,TGT_reverse,TGT_preview,z_offset,coord_skip,TGT_motion_delay,TGT_save)\n",
    "\n"
   ]
  },
  {
   "cell_type": "code",
   "execution_count": null,
   "id": "b4e7bb83",
   "metadata": {},
   "outputs": [],
   "source": []
  }
 ],
 "metadata": {
  "kernelspec": {
   "display_name": "Python 3 (ipykernel)",
   "language": "python",
   "name": "python3"
  },
  "language_info": {
   "codemirror_mode": {
    "name": "ipython",
    "version": 3
   },
   "file_extension": ".py",
   "mimetype": "text/x-python",
   "name": "python",
   "nbconvert_exporter": "python",
   "pygments_lexer": "ipython3",
   "version": "3.9.16"
  }
 },
 "nbformat": 4,
 "nbformat_minor": 5
}
