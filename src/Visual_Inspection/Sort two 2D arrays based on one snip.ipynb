{
 "cells": [
  {
   "cell_type": "code",
   "execution_count": 1,
   "id": "b930f95d",
   "metadata": {},
   "outputs": [],
   "source": [
    "import numpy as np"
   ]
  },
  {
   "cell_type": "code",
   "execution_count": 119,
   "id": "a02b0284",
   "metadata": {},
   "outputs": [
    {
     "data": {
      "text/plain": [
       "array([[20, 30, 10],\n",
       "       [10, 20, 30],\n",
       "       [ 0, 30, 20],\n",
       "       [90, 60, 10]])"
      ]
     },
     "execution_count": 119,
     "metadata": {},
     "output_type": "execute_result"
    }
   ],
   "source": [
    "x = np.array([[20, 30, 10],[10,20,30],[0,30,20],[90,60,10]])\n",
    "x\n"
   ]
  },
  {
   "cell_type": "code",
   "execution_count": 148,
   "id": "5177e28e",
   "metadata": {},
   "outputs": [
    {
     "data": {
      "text/plain": [
       "array([[ 100,  200,  300],\n",
       "       [ 400,  500,  600],\n",
       "       [ 700,  800,  900],\n",
       "       [1000, 1100, 1200]])"
      ]
     },
     "execution_count": 148,
     "metadata": {},
     "output_type": "execute_result"
    }
   ],
   "source": [
    "y = np.array([[100, 200, 300],[400,500,600],[700,800,900],[1000,1100,1200]])\n",
    "y"
   ]
  },
  {
   "cell_type": "code",
   "execution_count": 149,
   "id": "ec5dd814",
   "metadata": {},
   "outputs": [
    {
     "data": {
      "text/plain": [
       "array([[ 0, 30, 20],\n",
       "       [10, 20, 30],\n",
       "       [20, 30, 10],\n",
       "       [90, 60, 10]])"
      ]
     },
     "execution_count": 149,
     "metadata": {},
     "output_type": "execute_result"
    }
   ],
   "source": [
    "ind = np.argsort(x[:, 0]) #Sort based on first column\n",
    "sorted_x = x[ind]\n",
    "sorted_x"
   ]
  },
  {
   "cell_type": "code",
   "execution_count": 150,
   "id": "ee5de2fa",
   "metadata": {},
   "outputs": [
    {
     "data": {
      "text/plain": [
       "array([[ 700,  800,  900],\n",
       "       [ 400,  500,  600],\n",
       "       [ 100,  200,  300],\n",
       "       [1000, 1100, 1200]])"
      ]
     },
     "execution_count": 150,
     "metadata": {},
     "output_type": "execute_result"
    }
   ],
   "source": [
    "sorted_y = y[ind] #Y is rearranged Based on x's index\n",
    "sorted_y"
   ]
  }
 ],
 "metadata": {
  "kernelspec": {
   "display_name": "Python 3 (ipykernel)",
   "language": "python",
   "name": "python3"
  },
  "language_info": {
   "codemirror_mode": {
    "name": "ipython",
    "version": 3
   },
   "file_extension": ".py",
   "mimetype": "text/x-python",
   "name": "python",
   "nbconvert_exporter": "python",
   "pygments_lexer": "ipython3",
   "version": "3.9.16"
  }
 },
 "nbformat": 4,
 "nbformat_minor": 5
}
