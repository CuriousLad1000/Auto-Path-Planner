{
 "cells": [
  {
   "cell_type": "code",
   "execution_count": 1,
   "id": "b930f95d",
   "metadata": {},
   "outputs": [
    {
     "name": "stdout",
     "output_type": "stream",
     "text": [
      "Jupyter environment detected. Enabling Open3D WebVisualizer.\n",
      "[Open3D INFO] WebRTC GUI backend enabled.\n",
      "[Open3D INFO] WebRTCWindowSystem: HTTP handshake server disabled.\n"
     ]
    }
   ],
   "source": [
    "import numpy as np\n",
    "import open3d as o3d\n",
    "from open3d_ros_helper import open3d_ros_helper as orh"
   ]
  },
  {
   "cell_type": "code",
   "execution_count": 10,
   "id": "73c5b631",
   "metadata": {},
   "outputs": [],
   "source": [
    "sample_ply_data = o3d.data.DemoCropPointCloud()\n",
    "tst_pointCloud = o3d.io.read_point_cloud(sample_ply_data.point_cloud_path)"
   ]
  },
  {
   "cell_type": "code",
   "execution_count": null,
   "id": "805069ed",
   "metadata": {},
   "outputs": [],
   "source": [
    "tst_pointCloud.get"
   ]
  },
  {
   "cell_type": "code",
   "execution_count": 12,
   "id": "5ed03038",
   "metadata": {},
   "outputs": [],
   "source": [
    "# Convert points to a numpy array so that you can process it\n",
    "\n",
    "pointcloud_as_array = np.asarray(tst_pointCloud.points)\n",
    "\n",
    "# Top view (where you don't care about the Z value)\n",
    "# Set X and Y limits for XY plane\n",
    "\n",
    "X = 0.01617683  #center points\n",
    "Y = 0.00624271  #center points\n",
    "d = 0.01        #range\n",
    "\n",
    "# Go through each point in the array for \"slicing\"\n",
    "final_pointcloud_array = []\n",
    "\n",
    "for point in pointcloud_as_array:\n",
    "    if X - d < point[0] < X + d: #and Y - d < point[1] < Y + d:\n",
    "        final_pointcloud_array.append(point)\n",
    "\n",
    "# Create Open3D point cloud object from array\n",
    "\n",
    "final_pointcloud = o3d.geometry.PointCloud()\n",
    "final_pointcloud.points = o3d.utility.Vector3dVector(final_pointcloud_array)\n",
    "o3d.visualization.draw_geometries([final_pointcloud])"
   ]
  }
 ],
 "metadata": {
  "kernelspec": {
   "display_name": "Python 3 (ipykernel)",
   "language": "python",
   "name": "python3"
  },
  "language_info": {
   "codemirror_mode": {
    "name": "ipython",
    "version": 3
   },
   "file_extension": ".py",
   "mimetype": "text/x-python",
   "name": "python",
   "nbconvert_exporter": "python",
   "pygments_lexer": "ipython3",
   "version": "3.9.16"
  }
 },
 "nbformat": 4,
 "nbformat_minor": 5
}
