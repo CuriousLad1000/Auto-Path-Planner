{
 "cells": [
  {
   "cell_type": "code",
   "execution_count": 5,
   "id": "b930f95d",
   "metadata": {},
   "outputs": [],
   "source": [
    "import numpy as np\n",
    "import open3d as o3d\n",
    "from open3d_ros_helper import open3d_ros_helper as orh\n",
    "distance = 290"
   ]
  },
  {
   "cell_type": "markdown",
   "id": "c2ca0cf4",
   "metadata": {},
   "source": [
    "**Load Pointcloud from file downpcd_pointcloud.pcd**"
   ]
  },
  {
   "cell_type": "code",
   "execution_count": 6,
   "id": "8fac57a8",
   "metadata": {},
   "outputs": [
    {
     "data": {
      "text/plain": [
       "array([[ 1.18833103e-11, -2.33872574e-11,  1.00000000e+00],\n",
       "       [-1.75298198e-13, -8.78566837e-12,  1.00000000e+00],\n",
       "       [-6.74436722e-12, -9.13626466e-12,  1.00000000e+00],\n",
       "       ...,\n",
       "       [ 0.00000000e+00,  0.00000000e+00,  1.00000000e+00],\n",
       "       [ 1.18963243e-13,  2.82913732e-12,  1.00000000e+00],\n",
       "       [-4.16675781e-13,  8.84612275e-14,  1.00000000e+00]])"
      ]
     },
     "execution_count": 6,
     "metadata": {},
     "output_type": "execute_result"
    }
   ],
   "source": [
    "#o3d.io.write_point_cloud('downpcd_pointcloud.pcd', downpcd, write_ascii=False, compressed=False, print_progress=False)\n",
    "\n",
    "downpcd = o3d.io.read_point_cloud('downpcd_pointcloud.pcd', format='auto', remove_nan_points=False, remove_infinite_points=False, print_progress=False)\n",
    "v2_camera = np.array(np.asarray(downpcd.normals))\n",
    "v2_camera"
   ]
  },
  {
   "cell_type": "code",
   "execution_count": 7,
   "id": "0409a69b",
   "metadata": {},
   "outputs": [
    {
     "data": {
      "text/plain": [
       "array([[ 0.31790507, -0.23892866, -0.46200001],\n",
       "       [ 0.31190687, -0.23892866, -0.46200001],\n",
       "       [ 0.31090716, -0.23892866, -0.46200001],\n",
       "       ...,\n",
       "       [ 0.01889046, -0.00503746, -0.29100001],\n",
       "       [-0.29014713,  0.095082  , -0.45300001],\n",
       "       [ 0.02077951, -0.00503746, -0.29100001]])"
      ]
     },
     "execution_count": 7,
     "metadata": {},
     "output_type": "execute_result"
    }
   ],
   "source": [
    "rec = np.array(downpcd.points)\n",
    "rec"
   ]
  },
  {
   "cell_type": "code",
   "execution_count": 8,
   "id": "62b44953",
   "metadata": {},
   "outputs": [
    {
     "data": {
      "text/plain": [
       "array([  1668,   1669,   1670, ..., 169404, 169405, 169407])"
      ]
     },
     "execution_count": 8,
     "metadata": {},
     "output_type": "execute_result"
    }
   ],
   "source": [
    "idx = np.where(abs(rec[:,2]) < (distance/1000)+0.01)[0] #fetch all indexes of values less than distance of center of img 0.3 in column 3 of rec\n",
    "idx"
   ]
  },
  {
   "cell_type": "code",
   "execution_count": 9,
   "id": "63e4b442",
   "metadata": {},
   "outputs": [],
   "source": [
    "zz=downpcd.select_by_index(idx, invert=False)\n",
    "o3d.visualization.draw_geometries([zz], point_show_normal=True)\n",
    "\n",
    "nor = np.array(zz.normals)\n",
    "pts = np.array(zz.points)"
   ]
  },
  {
   "cell_type": "code",
   "execution_count": 10,
   "id": "dd11964c",
   "metadata": {},
   "outputs": [
    {
     "data": {
      "text/plain": [
       "array([54414])"
      ]
     },
     "execution_count": 10,
     "metadata": {},
     "output_type": "execute_result"
    }
   ],
   "source": [
    "idx2 = np.where((abs(pts[:,0]) < 0.0005) & (abs(pts[:,1]) < 0.0001))[0]\n",
    "idx2"
   ]
  },
  {
   "cell_type": "code",
   "execution_count": 11,
   "id": "d0ec85b6",
   "metadata": {},
   "outputs": [
    {
     "data": {
      "text/plain": [
       "array([-0.00031376,  0.        , -0.28999999])"
      ]
     },
     "execution_count": 11,
     "metadata": {},
     "output_type": "execute_result"
    }
   ],
   "source": [
    "pts[54414]"
   ]
  },
  {
   "cell_type": "code",
   "execution_count": 12,
   "id": "b883abc2",
   "metadata": {},
   "outputs": [
    {
     "data": {
      "text/plain": [
       "0.0003105133364442736"
      ]
     },
     "execution_count": 12,
     "metadata": {},
     "output_type": "execute_result"
    }
   ],
   "source": [
    "np.min(abs(pts[:,0]))"
   ]
  },
  {
   "cell_type": "code",
   "execution_count": null,
   "id": "63a2accb",
   "metadata": {},
   "outputs": [],
   "source": []
  },
  {
   "cell_type": "markdown",
   "id": "aef1970d",
   "metadata": {},
   "source": [
    "**Applying a Filter on a 3D array**"
   ]
  },
  {
   "cell_type": "code",
   "execution_count": 13,
   "id": "ab2d30dc",
   "metadata": {},
   "outputs": [
    {
     "data": {
      "text/plain": [
       "PointCloud with 1 points."
      ]
     },
     "execution_count": 13,
     "metadata": {},
     "output_type": "execute_result"
    }
   ],
   "source": [
    "x_range = [-0.001,(np.min(abs(pts[:,0]))+0.0001)]\n",
    "y_range = [np.min(abs(pts[:,1])), np.min(abs(pts[:,1]))]\n",
    "z_range = [-(distance/1000)-0.01,(distance/1000)+0.01]\n",
    "\n",
    "za = orh.apply_pass_through_filter(zz, x_range, y_range, z_range)\n",
    "za"
   ]
  },
  {
   "cell_type": "code",
   "execution_count": 14,
   "id": "e9931f69",
   "metadata": {},
   "outputs": [
    {
     "data": {
      "text/plain": [
       "array([[-0.00031376,  0.        , -0.28999999]])"
      ]
     },
     "execution_count": 14,
     "metadata": {},
     "output_type": "execute_result"
    }
   ],
   "source": [
    "zaza = np.array(za.points)\n",
    "zaza"
   ]
  },
  {
   "cell_type": "code",
   "execution_count": 15,
   "id": "832c99fb",
   "metadata": {},
   "outputs": [
    {
     "data": {
      "text/plain": [
       "0.00031375911203213036"
      ]
     },
     "execution_count": 15,
     "metadata": {},
     "output_type": "execute_result"
    }
   ],
   "source": [
    "np.min(abs(zaza[:,0]))"
   ]
  },
  {
   "cell_type": "code",
   "execution_count": null,
   "id": "1554d92b",
   "metadata": {},
   "outputs": [],
   "source": []
  }
 ],
 "metadata": {
  "kernelspec": {
   "display_name": "Python 3 (ipykernel)",
   "language": "python",
   "name": "python3"
  },
  "language_info": {
   "codemirror_mode": {
    "name": "ipython",
    "version": 3
   },
   "file_extension": ".py",
   "mimetype": "text/x-python",
   "name": "python",
   "nbconvert_exporter": "python",
   "pygments_lexer": "ipython3",
   "version": "3.9.16"
  }
 },
 "nbformat": 4,
 "nbformat_minor": 5
}
