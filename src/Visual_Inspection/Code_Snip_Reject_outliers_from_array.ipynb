{
 "cells": [
  {
   "cell_type": "code",
   "execution_count": null,
   "id": "f4fc8911",
   "metadata": {},
   "outputs": [],
   "source": [
    "import numpy a"
   ]
  },
  {
   "cell_type": "code",
   "execution_count": 1,
   "id": "e8fae452",
   "metadata": {},
   "outputs": [],
   "source": [
    "def reject_outliers(data, m = 2.):\n",
    "    d = np.abs(data - np.median(data))\n",
    "    mdev = np.median(d)\n",
    "    s = d/mdev if mdev else np.zeros(len(d))\n",
    "    return data[s<m]"
   ]
  },
  {
   "cell_type": "code",
   "execution_count": null,
   "id": "2b25b670",
   "metadata": {},
   "outputs": [],
   "source": []
  },
  {
   "cell_type": "code",
   "execution_count": 2,
   "id": "d5316b5d",
   "metadata": {},
   "outputs": [
    {
     "ename": "NameError",
     "evalue": "name 'np' is not defined",
     "output_type": "error",
     "traceback": [
      "\u001b[0;31m---------------------------------------------------------------------------\u001b[0m",
      "\u001b[0;31mNameError\u001b[0m                                 Traceback (most recent call last)",
      "Cell \u001b[0;32mIn[2], line 1\u001b[0m\n\u001b[0;32m----> 1\u001b[0m dists \u001b[38;5;241m=\u001b[39m \u001b[43mnp\u001b[49m\u001b[38;5;241m.\u001b[39marray([[\u001b[38;5;241m0.16810612\u001b[39m],\n\u001b[1;32m      2\u001b[0m                   [\u001b[38;5;241m0.17208252\u001b[39m],\n\u001b[1;32m      3\u001b[0m                   [\u001b[38;5;241m0.17303282\u001b[39m],\n\u001b[1;32m      4\u001b[0m                   [\u001b[38;5;241m0.17322609\u001b[39m],\n\u001b[1;32m      5\u001b[0m                   [\u001b[38;5;241m3.17334757\u001b[39m],\n\u001b[1;32m      6\u001b[0m                   [\u001b[38;5;241m0.17360572\u001b[39m],\n\u001b[1;32m      7\u001b[0m                   [\u001b[38;5;241m0.17373298\u001b[39m],\n\u001b[1;32m      8\u001b[0m                   [\u001b[38;5;241m0.17373298\u001b[39m]])\n",
      "\u001b[0;31mNameError\u001b[0m: name 'np' is not defined"
     ]
    }
   ],
   "source": [
    "dists = np.array([[0.16810612],\n",
    "                  [0.17208252],\n",
    "                  [0.17303282],\n",
    "                  [0.17322609],\n",
    "                  [3.17334757],\n",
    "                  [0.17360572],\n",
    "                  [0.17373298],\n",
    "                  [0.17373298]])"
   ]
  },
  {
   "cell_type": "code",
   "execution_count": null,
   "id": "fe1dc606",
   "metadata": {},
   "outputs": [],
   "source": [
    "reject_outliers(dists)"
   ]
  }
 ],
 "metadata": {
  "kernelspec": {
   "display_name": "Python 3 (ipykernel)",
   "language": "python",
   "name": "python3"
  },
  "language_info": {
   "codemirror_mode": {
    "name": "ipython",
    "version": 3
   },
   "file_extension": ".py",
   "mimetype": "text/x-python",
   "name": "python",
   "nbconvert_exporter": "python",
   "pygments_lexer": "ipython3",
   "version": "3.9.16"
  }
 },
 "nbformat": 4,
 "nbformat_minor": 5
}
