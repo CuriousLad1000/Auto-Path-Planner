{
 "cells": [
  {
   "cell_type": "markdown",
   "id": "e881e3aa",
   "metadata": {},
   "source": [
    "Source: https://stackoverflow.com/questions/2827393/angles-between-two-n-dimensional-vectors-in-python"
   ]
  },
  {
   "cell_type": "code",
   "execution_count": 2,
   "id": "37a5295f",
   "metadata": {},
   "outputs": [],
   "source": [
    "import numpy as np\n",
    "\n",
    "def unit_vector(vector):\n",
    "    \"\"\" Returns the unit vector of the vector.  \"\"\"\n",
    "    return vector / np.linalg.norm(vector)\n",
    "\n",
    "def angle_between(v1, v2):\n",
    "    \"\"\" Returns the angle in radians between vectors 'v1' and 'v2'::\n",
    "\n",
    "            >>> angle_between((1, 0, 0), (0, 1, 0))\n",
    "            1.5707963267948966\n",
    "            >>> angle_between((1, 0, 0), (1, 0, 0))\n",
    "            0.0\n",
    "            >>> angle_between((1, 0, 0), (-1, 0, 0))\n",
    "            3.141592653589793\n",
    "    \"\"\"\n",
    "    v1_u = unit_vector(v1)\n",
    "    v2_u = unit_vector(v2)\n",
    "    return np.arccos(np.clip(np.dot(v1_u, v2_u), -1.0, 1.0))"
   ]
  },
  {
   "cell_type": "code",
   "execution_count": 4,
   "id": "56449873",
   "metadata": {},
   "outputs": [],
   "source": [
    "v1_normal = np.array([[-0.22134555, -0.23290572, -0.56433334],\n",
    "       [ 0.00998324, -0.33580547, -0.81566666],\n",
    "       [-0.01544382, -0.33377228, -0.81038044],\n",
    "       [ 0.03497698, -0.33599344, -0.82245366],\n",
    "       [-0.22126554, -0.20623582, -0.50702727],\n",
    "       [ 0.08078788, -0.33804043, -0.83129375],\n",
    "       [ 0.36394743, -0.33849019, -0.84154362],\n",
    "       [ 0.32783675, -0.34740488, -0.86207417],\n",
    "       [ 0.27992406, -0.34492276, -0.86027255],\n",
    "       [ 0.33285743, -0.15212314, -0.97822069]])\n",
    "\n",
    "v2_camera = np.array([[ 0.31343608,  0.90116799, -0.2994229],\n",
    "       [ 0.15120713,  0.49841082,  0.85365278],\n",
    "       [ 0.13867461,  0.49287272,  0.85897953],\n",
    "       [ 0.17993485,  0.51291125,  0.83937208],\n",
    "       [ 0.37123871,  0.87093082, -0.32196479],\n",
    "       [ 0.17326781,  0.49387882,  0.85209271],\n",
    "       [-0.63229278,  0.5585245 ,  0.53689499],\n",
    "       [-0.26580567,  0.82525437,  0.49829967],\n",
    "       [ 0.01896451,  0.53399668,  0.84527386],\n",
    "       [-0.11072898,  0.5287607 ,  0.84151721]])\n",
    "\n",
    "\n",
    "v3_tangent = np.array([[-0.31343608, -0.90116799,  0.2994229],\n",
    "       [-0.15120713, -0.49841082, -0.85365278],\n",
    "       [-0.13867461, -0.49287272, -0.85897953],\n",
    "       [-0.17993485, -0.51291125, -0.83937208],\n",
    "       [-0.37123871, -0.87093082,  0.32196479],\n",
    "       [-0.17326781, -0.49387882, -0.85209271],\n",
    "       [ 0.63229278, -0.5585245 , -0.53689499],\n",
    "       [ 0.26580567, -0.82525437, -0.49829967],\n",
    "       [-0.01896451, -0.53399668, -0.84527386],\n",
    "       [ 0.11072898, -0.5287607 , -0.84151721]])\n"
   ]
  },
  {
   "cell_type": "code",
   "execution_count": 20,
   "id": "cce3e7dd",
   "metadata": {},
   "outputs": [
    {
     "name": "stdout",
     "output_type": "stream",
     "text": [
      "angle between Normal and Camera\n",
      "\n",
      "1 99.77830678229203\n",
      "2 167.77991986438659\n",
      "3 169.81544038619654\n",
      "4 164.4031209541638\n",
      "5 99.60539502558616\n",
      "6 162.92127983181837\n",
      "7 153.0212409983284\n",
      "8 144.60480440893187\n",
      "9 159.3594050498396\n",
      "10 154.21965648263082\n"
     ]
    }
   ],
   "source": [
    "print(\"angle between Normal and Camera\")\n",
    "print()\n",
    "for i in range(len(v3_tangent)):\n",
    "    print(i+1, np.degrees(angle_between(v1_normal[i], v2_camera[i])))\n"
   ]
  },
  {
   "cell_type": "code",
   "execution_count": 19,
   "id": "902f51bd",
   "metadata": {},
   "outputs": [
    {
     "name": "stdout",
     "output_type": "stream",
     "text": [
      "angle between Normal and Tangent\n",
      "\n",
      "1 80.22169321770797\n",
      "2 12.220080135613422\n",
      "3 10.184559613803454\n",
      "4 15.59687904583623\n",
      "5 80.39460497441385\n",
      "6 17.07872016818163\n",
      "7 26.978759001671598\n",
      "8 35.395195591068116\n",
      "9 20.64059495016041\n",
      "10 25.78034351736919\n"
     ]
    }
   ],
   "source": [
    "print(\"angle between Normal and Tangent\")\n",
    "print()\n",
    "for i in range(len(v3_tangent)):\n",
    "    print(i+1, np.degrees(angle_between(v1_normal[i], v3_tangent[i])))\n"
   ]
  },
  {
   "cell_type": "code",
   "execution_count": 22,
   "id": "f7be030d",
   "metadata": {},
   "outputs": [
    {
     "name": "stdout",
     "output_type": "stream",
     "text": [
      "angle between Camera and Tangent\n",
      "\n",
      "1 179.99999879258172\n",
      "2 180.0\n",
      "3 180.0\n",
      "4 180.0\n",
      "5 180.0\n",
      "6 179.99999914622634\n",
      "7 180.0\n",
      "8 180.0\n",
      "9 179.99999879258172\n",
      "10 180.0\n"
     ]
    }
   ],
   "source": [
    "print(\"angle between Camera and Tangent\")\n",
    "print()\n",
    "for i in range(len(v3_tangent)):\n",
    "    print(i+1, np.degrees(angle_between(v3_tangent[i], v2_camera[i])))\n"
   ]
  }
 ],
 "metadata": {
  "kernelspec": {
   "display_name": "Python 3 (ipykernel)",
   "language": "python",
   "name": "python3"
  },
  "language_info": {
   "codemirror_mode": {
    "name": "ipython",
    "version": 3
   },
   "file_extension": ".py",
   "mimetype": "text/x-python",
   "name": "python",
   "nbconvert_exporter": "python",
   "pygments_lexer": "ipython3",
   "version": "3.9.16"
  }
 },
 "nbformat": 4,
 "nbformat_minor": 5
}
